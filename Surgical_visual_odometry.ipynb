{
 "cells": [
  {
   "cell_type": "code",
   "execution_count": 1,
   "metadata": {
    "scrolled": true
   },
   "outputs": [],
   "source": [
    "import torch\n",
    "import torch.nn as nn\n",
    "from torch.autograd import Variable\n",
    "import torch.nn.functional as F\n",
    "import torch.utils.data\n",
    "import torch.optim as optim\n",
    "\n",
    "from tensorboardX import SummaryWriter\n",
    "\n",
    "import os\n",
    "from utils import tools\n",
    "\n",
    "\n",
    "# import FlowNetC\n",
    "from networks import FlowNetC\n",
    "\n",
    "from PIL import Image\n",
    "import numpy as np\n",
    "import pandas as pd\n",
    "\n",
    "# import flowlib\n",
    "\n",
    "from PIL import Image\n",
    "\n",
    "import tqdm\n",
    "import cv2\n",
    "import csv\n",
    "import time"
   ]
  },
  {
   "cell_type": "code",
   "execution_count": 206,
   "metadata": {},
   "outputs": [
    {
     "name": "stdout",
     "output_type": "stream",
     "text": [
      "The oringinal framerate is 25.0 with frame resolution of: (768.0, 576.0)\n",
      "The total number of frame in this video is 17155\n"
     ]
    }
   ],
   "source": [
    "cap = cv2.VideoCapture('data/caolin_foot_trial1-4.mp4')\n",
    "name = 'caolin'\n",
    "\n",
    "framerate = cap.get(5)\n",
    "total_image = int(cap.get(cv2.CAP_PROP_FRAME_COUNT))\n",
    "\n",
    "print(f'The oringinal framerate is {cap.get(5)} with frame resolution of: {cap.get(3), cap.get(4)}')\n",
    "print(f'The total number of frame in this video is {total_image}')"
   ]
  },
  {
   "cell_type": "code",
   "execution_count": 207,
   "metadata": {},
   "outputs": [
    {
     "name": "stdout",
     "output_type": "stream",
     "text": [
      "We've gotten 3432 frames from this video.\n"
     ]
    }
   ],
   "source": [
    "count = 1\n",
    "while(cap.isOpened()):\n",
    "    frameID = cap.get(1) # get the current frame number\n",
    "    ret, frame = cap.read()\n",
    "    \n",
    "    if(ret != True):\n",
    "        print(f'We\\'ve gotten {int(frameID/5)+1} frames from this video.')\n",
    "        break\n",
    "    if (frameID % int(framerate/5) == 0):\n",
    "        frame = frame[64:, 170:600 , :]\n",
    "        filename = 'Train_1/'+ name + \"_frame%04d.jpg\" % count;count+=1\n",
    "        cv2.imwrite(filename, frame)\n",
    "cap.release()"
   ]
  },
  {
   "cell_type": "markdown",
   "metadata": {},
   "source": [
    "## Building Dataset"
   ]
  },
  {
   "cell_type": "code",
   "execution_count": 13,
   "metadata": {},
   "outputs": [],
   "source": [
    "image_files = dataset.image_files"
   ]
  },
  {
   "cell_type": "code",
   "execution_count": null,
   "metadata": {},
   "outputs": [],
   "source": []
  },
  {
   "cell_type": "code",
   "execution_count": 14,
   "metadata": {},
   "outputs": [],
   "source": [
    "class MyDataset:\n",
    "    \n",
    "    def __init__(self, num_train_img = 3400, base_dir = '/home/projectx/Documents/GitHub repos/VINET_modification/', sequence = 'Train_1/'):  # base_dir(image) and sequence(lstm) are directories\n",
    "        self.base_dir = base_dir\n",
    "        self.sequence = sequence\n",
    "        self.base_path_img = self.base_dir + self.sequence\n",
    "        \n",
    "        self.image_files = os.listdir(self.base_path_img)\n",
    "        self.image_files.sort()\n",
    "        self.image_files = self.image_files[0:num_train_img]\n",
    "        \n",
    "        ## Omega.7 and load cells\n",
    "        self.input_lstm = self.read_OMEGA7_LC()\n",
    "        \n",
    "        \n",
    "        self.imu_seq_len = 20\n",
    "    \n",
    "    def read_OMEGA7_LC(self, path='data/result_1.csv'):\n",
    "        # read csv data\n",
    "        df = pd.read_csv(path,header = None)\n",
    "        df = df[:874300]\n",
    "        \n",
    "        # take moving average of every 10 data points\n",
    "        new_df = df.groupby(df.index//10).mean()\n",
    "        array_input = np.array(new_df)\n",
    "        input_lstm  = Variable(torch.from_numpy(array_input).type(torch.FloatTensor))\n",
    "        input_lstm = input_lstm[:80000,:]\n",
    "        \n",
    "        # reshape to (num_dataset, sequence_length, feature_size)\n",
    "        input_lstm = input_lstm.view(-1,20,11)\n",
    "        \n",
    "        return np.array(input_lstm)\n",
    "    \n",
    "    \n",
    "    def get_input_lstm(self):\n",
    "        return self.input_lstm\n",
    "    \n",
    "    def __len__(self):\n",
    "        return len(self.image_files)\n",
    "    \n",
    "    def load_img_bat(self, idx, batch):\n",
    "        batch_x = []\n",
    "        batch_input_lstm = []\n",
    "        for i in range(batch):\n",
    "            x_data_np_1 = np.array(Image.open(self.base_path_img + self.image_files[idx + i]))\n",
    "            x_data_np_2 = np.array(Image.open(self.base_path_img + self.image_files[idx+1 + i]))\n",
    "            x_data_np_1 = x_data_np_1.reshape(3,512,430)\n",
    "            x_data_np_2 = x_data_np_2.reshape(3,512,430)\n",
    "\n",
    "#             ## 3 channels\n",
    "#             x_data_np_1 = np.array([x_data_np_1, x_data_np_1, x_data_np_1])\n",
    "#             x_data_np_2 = np.array([x_data_np_2, x_data_np_2, x_data_np_2])\n",
    "\n",
    "            X = np.array([x_data_np_1, x_data_np_2])\n",
    "            batch_x.append(X)\n",
    "        \n",
    "#           self.input_lstm of size: (num_dataset, sequence_length, feature_size)\n",
    "            tmp = np.array(self.input_lstm[idx + i])\n",
    "            batch_input_lstm.append(tmp)\n",
    "            \n",
    "        \n",
    "        batch_x = np.array(batch_x)\n",
    "        batch_input_lstm = np.array(batch_input_lstm)\n",
    "        \n",
    "        X = Variable(torch.from_numpy(batch_x).type(torch.FloatTensor).cuda())    \n",
    "        X2 = Variable(torch.from_numpy(batch_input_lstm).type(torch.FloatTensor).cuda())    \n",
    "        \n",
    "        Y = X2[:,:,-3:]\n",
    "        \n",
    "     \n",
    "        return X, X2 , Y"
   ]
  },
  {
   "cell_type": "code",
   "execution_count": 15,
   "metadata": {},
   "outputs": [
    {
     "name": "stderr",
     "output_type": "stream",
     "text": [
      "/home/projectx/anaconda3/envs/fastai/lib/python3.6/site-packages/IPython/core/interactiveshell.py:3325: DtypeWarning: Columns (8) have mixed types. Specify dtype option on import or set low_memory=False.\n",
      "  exec(code_obj, self.user_global_ns, self.user_ns)\n"
     ]
    }
   ],
   "source": [
    "dataset = MyDataset()"
   ]
  },
  {
   "cell_type": "code",
   "execution_count": 6,
   "metadata": {},
   "outputs": [],
   "source": [
    "input_lstm = dataset.get_input_lstm()"
   ]
  },
  {
   "cell_type": "code",
   "execution_count": 73,
   "metadata": {
    "scrolled": true
   },
   "outputs": [],
   "source": [
    "X, X2 , Y = dataset.load_img_bat(0,1)"
   ]
  },
  {
   "cell_type": "code",
   "execution_count": 74,
   "metadata": {},
   "outputs": [
    {
     "data": {
      "text/plain": [
       "(torch.Size([1, 2, 3, 512, 430]),\n",
       " torch.Size([1, 20, 11]),\n",
       " torch.Size([1, 20, 3]))"
      ]
     },
     "execution_count": 74,
     "metadata": {},
     "output_type": "execute_result"
    }
   ],
   "source": [
    "X.size(), X2.size() , Y.size() "
   ]
  },
  {
   "cell_type": "code",
   "execution_count": 20,
   "metadata": {},
   "outputs": [
    {
     "data": {
      "text/plain": [
       "torch.Size([1, 6, 512, 430])"
      ]
     },
     "execution_count": 20,
     "metadata": {},
     "output_type": "execute_result"
    }
   ],
   "source": [
    "X = X.view(1,-1,  512, 430)\n",
    "X.size()"
   ]
  },
  {
   "cell_type": "code",
   "execution_count": 63,
   "metadata": {},
   "outputs": [
    {
     "name": "stderr",
     "output_type": "stream",
     "text": [
      "/pytorch/torch/csrc/autograd/python_function.cpp:622: UserWarning: Legacy autograd function with non-static forward method is deprecated and will be removed in 1.3. Please use new-style autograd function with static forward method. (Example: https://pytorch.org/docs/stable/autograd.html#torch.autograd.Function)\n"
     ]
    }
   ],
   "source": [
    "output = flownet_c(X)"
   ]
  },
  {
   "cell_type": "code",
   "execution_count": 64,
   "metadata": {},
   "outputs": [
    {
     "data": {
      "text/plain": [
       "torch.Size([1, 1024, 8, 7])"
      ]
     },
     "execution_count": 64,
     "metadata": {},
     "output_type": "execute_result"
    }
   ],
   "source": [
    "output.size()"
   ]
  },
  {
   "cell_type": "code",
   "execution_count": null,
   "metadata": {},
   "outputs": [],
   "source": []
  },
  {
   "cell_type": "code",
   "execution_count": null,
   "metadata": {},
   "outputs": [],
   "source": []
  },
  {
   "cell_type": "code",
   "execution_count": 62,
   "metadata": {},
   "outputs": [
    {
     "data": {
      "text/plain": [
       "FlowNetC(\n",
       "  (conv1): Sequential(\n",
       "    (0): Conv2d(3, 64, kernel_size=(7, 7), stride=(2, 2), padding=(3, 3))\n",
       "    (1): LeakyReLU(negative_slope=0.1, inplace=True)\n",
       "  )\n",
       "  (conv2): Sequential(\n",
       "    (0): Conv2d(64, 128, kernel_size=(5, 5), stride=(2, 2), padding=(2, 2))\n",
       "    (1): LeakyReLU(negative_slope=0.1, inplace=True)\n",
       "  )\n",
       "  (conv3): Sequential(\n",
       "    (0): Conv2d(128, 256, kernel_size=(5, 5), stride=(2, 2), padding=(2, 2))\n",
       "    (1): LeakyReLU(negative_slope=0.1, inplace=True)\n",
       "  )\n",
       "  (conv_redir): Sequential(\n",
       "    (0): Conv2d(256, 32, kernel_size=(1, 1), stride=(1, 1))\n",
       "    (1): LeakyReLU(negative_slope=0.1, inplace=True)\n",
       "  )\n",
       "  (corr): Correlation()\n",
       "  (corr_activation): LeakyReLU(negative_slope=0.1, inplace=True)\n",
       "  (conv3_1): Sequential(\n",
       "    (0): Conv2d(473, 256, kernel_size=(3, 3), stride=(1, 1), padding=(1, 1))\n",
       "    (1): LeakyReLU(negative_slope=0.1, inplace=True)\n",
       "  )\n",
       "  (conv4): Sequential(\n",
       "    (0): Conv2d(256, 512, kernel_size=(3, 3), stride=(2, 2), padding=(1, 1))\n",
       "    (1): LeakyReLU(negative_slope=0.1, inplace=True)\n",
       "  )\n",
       "  (conv4_1): Sequential(\n",
       "    (0): Conv2d(512, 512, kernel_size=(3, 3), stride=(1, 1), padding=(1, 1))\n",
       "    (1): LeakyReLU(negative_slope=0.1, inplace=True)\n",
       "  )\n",
       "  (conv5): Sequential(\n",
       "    (0): Conv2d(512, 512, kernel_size=(3, 3), stride=(2, 2), padding=(1, 1))\n",
       "    (1): LeakyReLU(negative_slope=0.1, inplace=True)\n",
       "  )\n",
       "  (conv5_1): Sequential(\n",
       "    (0): Conv2d(512, 512, kernel_size=(3, 3), stride=(1, 1), padding=(1, 1))\n",
       "    (1): LeakyReLU(negative_slope=0.1, inplace=True)\n",
       "  )\n",
       "  (conv6): Sequential(\n",
       "    (0): Conv2d(512, 1024, kernel_size=(3, 3), stride=(2, 2), padding=(1, 1))\n",
       "    (1): LeakyReLU(negative_slope=0.1, inplace=True)\n",
       "  )\n",
       "  (conv6_1): Sequential(\n",
       "    (0): Conv2d(1024, 1024, kernel_size=(3, 3), stride=(1, 1), padding=(1, 1))\n",
       "    (1): LeakyReLU(negative_slope=0.1, inplace=True)\n",
       "  )\n",
       "  (upsample1): Upsample(scale_factor=4.0, mode=bilinear)\n",
       ")"
      ]
     },
     "execution_count": 62,
     "metadata": {},
     "output_type": "execute_result"
    }
   ],
   "source": [
    "flownet_c = FlowNetC.FlowNetC(batchNorm=False)\n",
    "checkpoint = None\n",
    "checkpoint_pytorch = 'FlowNet2-C_checkpoint.pth.tar'\n",
    "#checkpoint_pytorch = '/notebooks/data/model/FlowNet2-SD_checkpoint.pth.tar'\n",
    "if os.path.isfile(checkpoint_pytorch):\n",
    "    checkpoint = torch.load(checkpoint_pytorch,\\\n",
    "                        map_location=lambda storage, loc: storage.cuda(0))\n",
    "    pop_list = [\"deconv5.0.weight\", \"deconv5.0.bias\", \"deconv4.0.weight\", \"deconv4.0.bias\", \"deconv3.0.weight\", \"deconv3.0.bias\", \"deconv2.0.weight\", \"deconv2.0.bias\", \"predict_flow6.weight\", \"predict_flow6.bias\", \"predict_flow5.weight\", \"predict_flow5.bias\", \"predict_flow4.weight\", \"predict_flow4.bias\", \"predict_flow3.weight\", \"predict_flow3.bias\", \"predict_flow2.weight\", \"predict_flow2.bias\", \"upsampled_flow6_to_5.weight\", \"upsampled_flow6_to_5.bias\", \"upsampled_flow5_to_4.weight\", \"upsampled_flow5_to_4.bias\", \"upsampled_flow4_to_3.weight\", \"upsampled_flow4_to_3.bias\", \"upsampled_flow3_to_2.weight\", \"upsampled_flow3_to_2.bias\"]\n",
    "    for name in pop_list:\n",
    "        checkpoint['state_dict'].pop(name);\n",
    "\n",
    "flownet_c.load_state_dict(checkpoint['state_dict'])\n",
    "flownet_c.cuda()"
   ]
  },
  {
   "cell_type": "code",
   "execution_count": null,
   "metadata": {},
   "outputs": [],
   "source": []
  },
  {
   "cell_type": "code",
   "execution_count": null,
   "metadata": {},
   "outputs": [],
   "source": []
  },
  {
   "cell_type": "code",
   "execution_count": 247,
   "metadata": {},
   "outputs": [
    {
     "data": {
      "text/plain": [
       "torch.Size([1, 1024, 8, 7])"
      ]
     },
     "execution_count": 247,
     "metadata": {},
     "output_type": "execute_result"
    }
   ],
   "source": [
    "output.shape # batchsize, hidden_size, H, W"
   ]
  },
  {
   "cell_type": "code",
   "execution_count": 240,
   "metadata": {},
   "outputs": [
    {
     "data": {
      "text/plain": [
       "torch.Size([1, 1, 57344])"
      ]
     },
     "execution_count": 240,
     "metadata": {},
     "output_type": "execute_result"
    }
   ],
   "source": [
    "output = output.view(1,1,-1) # Unfold\n",
    "output.shape"
   ]
  },
  {
   "cell_type": "code",
   "execution_count": 9,
   "metadata": {},
   "outputs": [
    {
     "data": {
      "text/plain": [
       "tensor([[[-5.0176e-02,  9.3075e-05,  6.7472e-04],\n",
       "         [-5.0176e-02,  9.3075e-05,  6.7472e-04],\n",
       "         [-5.0177e-02,  9.3074e-05,  6.7677e-04],\n",
       "         [-5.0183e-02,  9.5170e-05,  6.8961e-04],\n",
       "         [-5.0189e-02,  9.5468e-05,  7.1483e-04],\n",
       "         [-5.0188e-02,  9.6682e-05,  7.3828e-04],\n",
       "         [-5.0183e-02,  9.6397e-05,  7.5093e-04],\n",
       "         [-5.0188e-02,  9.2185e-05,  7.5566e-04],\n",
       "         [-5.0196e-02,  8.7368e-05,  7.6242e-04],\n",
       "         [-5.0198e-02,  8.2864e-05,  7.7116e-04],\n",
       "         [-5.0196e-02,  8.1069e-05,  7.7637e-04],\n",
       "         [-5.0196e-02,  8.2871e-05,  7.8049e-04],\n",
       "         [-5.0199e-02,  8.7372e-05,  7.8749e-04],\n",
       "         [-5.0201e-02,  9.0675e-05,  7.9556e-04],\n",
       "         [-5.0202e-02,  9.3077e-05,  8.0140e-04],\n",
       "         [-5.0202e-02,  9.0074e-05,  8.0139e-04],\n",
       "         [-5.0204e-02,  8.7070e-05,  8.0480e-04],\n",
       "         [-5.0206e-02,  8.6167e-05,  8.0666e-04],\n",
       "         [-5.0207e-02,  7.8959e-05,  8.0767e-04],\n",
       "         [-5.0209e-02,  7.1151e-05,  8.0730e-04]]], device='cuda:0')"
      ]
     },
     "execution_count": 9,
     "metadata": {},
     "output_type": "execute_result"
    }
   ],
   "source": [
    "device = torch.device(\"cuda:0\" if torch.cuda.is_available() else \"cpu\")\n",
    "temp.to(device)"
   ]
  },
  {
   "cell_type": "code",
   "execution_count": 76,
   "metadata": {
    "scrolled": true
   },
   "outputs": [
    {
     "name": "stderr",
     "output_type": "stream",
     "text": [
      "/home/projectx/anaconda3/envs/fastai/lib/python3.6/site-packages/IPython/core/interactiveshell.py:3057: DtypeWarning: Columns (8) have mixed types. Specify dtype option on import or set low_memory=False.\n",
      "  interactivity=interactivity, compiler=compiler, result=result)\n"
     ]
    },
    {
     "data": {
      "text/html": [
       "<div>\n",
       "<style scoped>\n",
       "    .dataframe tbody tr th:only-of-type {\n",
       "        vertical-align: middle;\n",
       "    }\n",
       "\n",
       "    .dataframe tbody tr th {\n",
       "        vertical-align: top;\n",
       "    }\n",
       "\n",
       "    .dataframe thead th {\n",
       "        text-align: right;\n",
       "    }\n",
       "</style>\n",
       "<table border=\"1\" class=\"dataframe\">\n",
       "  <thead>\n",
       "    <tr style=\"text-align: right;\">\n",
       "      <th></th>\n",
       "      <th>0</th>\n",
       "      <th>1</th>\n",
       "      <th>2</th>\n",
       "      <th>3</th>\n",
       "      <th>4</th>\n",
       "      <th>5</th>\n",
       "      <th>6</th>\n",
       "      <th>7</th>\n",
       "      <th>8</th>\n",
       "      <th>9</th>\n",
       "      <th>10</th>\n",
       "      <th>11</th>\n",
       "    </tr>\n",
       "  </thead>\n",
       "  <tbody>\n",
       "    <tr>\n",
       "      <th>0</th>\n",
       "      <td>-84.000</td>\n",
       "      <td>-86.000</td>\n",
       "      <td>-77.000</td>\n",
       "      <td>-75.000</td>\n",
       "      <td>-330.00</td>\n",
       "      <td>-310.00</td>\n",
       "      <td>-0.050544</td>\n",
       "      <td>0.000217</td>\n",
       "      <td>0.0004402</td>\n",
       "      <td>-0.050176</td>\n",
       "      <td>0.000093</td>\n",
       "      <td>0.000675</td>\n",
       "    </tr>\n",
       "    <tr>\n",
       "      <th>1</th>\n",
       "      <td>-83.990</td>\n",
       "      <td>-85.994</td>\n",
       "      <td>-76.995</td>\n",
       "      <td>-74.995</td>\n",
       "      <td>-329.96</td>\n",
       "      <td>-309.97</td>\n",
       "      <td>-0.050538</td>\n",
       "      <td>0.000217</td>\n",
       "      <td>0.00044025</td>\n",
       "      <td>-0.050176</td>\n",
       "      <td>0.000093</td>\n",
       "      <td>0.000675</td>\n",
       "    </tr>\n",
       "    <tr>\n",
       "      <th>2</th>\n",
       "      <td>-83.957</td>\n",
       "      <td>-85.978</td>\n",
       "      <td>-76.980</td>\n",
       "      <td>-74.978</td>\n",
       "      <td>-329.85</td>\n",
       "      <td>-309.89</td>\n",
       "      <td>-0.050517</td>\n",
       "      <td>0.000217</td>\n",
       "      <td>0.00043361</td>\n",
       "      <td>-0.050176</td>\n",
       "      <td>0.000093</td>\n",
       "      <td>0.000675</td>\n",
       "    </tr>\n",
       "    <tr>\n",
       "      <th>3</th>\n",
       "      <td>-83.906</td>\n",
       "      <td>-85.946</td>\n",
       "      <td>-76.952</td>\n",
       "      <td>-74.949</td>\n",
       "      <td>-329.67</td>\n",
       "      <td>-309.76</td>\n",
       "      <td>-0.050490</td>\n",
       "      <td>0.000217</td>\n",
       "      <td>0.00042702</td>\n",
       "      <td>-0.050176</td>\n",
       "      <td>0.000093</td>\n",
       "      <td>0.000675</td>\n",
       "    </tr>\n",
       "    <tr>\n",
       "      <th>4</th>\n",
       "      <td>-83.835</td>\n",
       "      <td>-85.899</td>\n",
       "      <td>-76.912</td>\n",
       "      <td>-74.913</td>\n",
       "      <td>-329.43</td>\n",
       "      <td>-309.58</td>\n",
       "      <td>-0.050465</td>\n",
       "      <td>0.000218</td>\n",
       "      <td>0.00042383</td>\n",
       "      <td>-0.050176</td>\n",
       "      <td>0.000093</td>\n",
       "      <td>0.000675</td>\n",
       "    </tr>\n",
       "  </tbody>\n",
       "</table>\n",
       "</div>"
      ],
      "text/plain": [
       "       0       1       2       3       4       5         6         7   \\\n",
       "0 -84.000 -86.000 -77.000 -75.000 -330.00 -310.00 -0.050544  0.000217   \n",
       "1 -83.990 -85.994 -76.995 -74.995 -329.96 -309.97 -0.050538  0.000217   \n",
       "2 -83.957 -85.978 -76.980 -74.978 -329.85 -309.89 -0.050517  0.000217   \n",
       "3 -83.906 -85.946 -76.952 -74.949 -329.67 -309.76 -0.050490  0.000217   \n",
       "4 -83.835 -85.899 -76.912 -74.913 -329.43 -309.58 -0.050465  0.000218   \n",
       "\n",
       "           8         9         10        11  \n",
       "0   0.0004402 -0.050176  0.000093  0.000675  \n",
       "1  0.00044025 -0.050176  0.000093  0.000675  \n",
       "2  0.00043361 -0.050176  0.000093  0.000675  \n",
       "3  0.00042702 -0.050176  0.000093  0.000675  \n",
       "4  0.00042383 -0.050176  0.000093  0.000675  "
      ]
     },
     "execution_count": 76,
     "metadata": {},
     "output_type": "execute_result"
    }
   ],
   "source": [
    "sequence = pd.read_csv('data/result_1.csv',header = None)\n",
    "sequence.head()"
   ]
  },
  {
   "cell_type": "code",
   "execution_count": 77,
   "metadata": {},
   "outputs": [],
   "source": [
    "array_sequence = np.array(sequence)"
   ]
  },
  {
   "cell_type": "code",
   "execution_count": 78,
   "metadata": {},
   "outputs": [
    {
     "data": {
      "text/plain": [
       "(874300, 12)"
      ]
     },
     "execution_count": 78,
     "metadata": {},
     "output_type": "execute_result"
    }
   ],
   "source": [
    "sequence = sequence[:874300]\n",
    "# sequence.astype('float64')\n",
    "sequence.shape"
   ]
  },
  {
   "cell_type": "code",
   "execution_count": 79,
   "metadata": {},
   "outputs": [
    {
     "data": {
      "text/plain": [
       "RangeIndex(start=0, stop=874300, step=1)"
      ]
     },
     "execution_count": 79,
     "metadata": {},
     "output_type": "execute_result"
    }
   ],
   "source": [
    "sequence.index"
   ]
  },
  {
   "cell_type": "code",
   "execution_count": 80,
   "metadata": {},
   "outputs": [
    {
     "data": {
      "text/plain": [
       "(87430, 11)"
      ]
     },
     "execution_count": 80,
     "metadata": {},
     "output_type": "execute_result"
    }
   ],
   "source": [
    "new_df = sequence.groupby(sequence.index//10).mean()\n",
    "new_df.shape"
   ]
  },
  {
   "cell_type": "code",
   "execution_count": 81,
   "metadata": {},
   "outputs": [
    {
     "data": {
      "text/plain": [
       "torch.Size([80000, 11])"
      ]
     },
     "execution_count": 81,
     "metadata": {},
     "output_type": "execute_result"
    }
   ],
   "source": [
    "array_input = np.array(new_df)\n",
    "input_lstm  = Variable(torch.from_numpy(array_input).type(torch.FloatTensor))\n",
    "input_lstm = input_lstm[:80000,:]\n",
    "input_lstm.shape"
   ]
  },
  {
   "cell_type": "code",
   "execution_count": 82,
   "metadata": {},
   "outputs": [],
   "source": [
    "rnnIMU = nn.LSTM(\n",
    "            input_size=11, \n",
    "            hidden_size=6,\n",
    "            num_layers=2,\n",
    "            batch_first=True)"
   ]
  },
  {
   "cell_type": "code",
   "execution_count": 83,
   "metadata": {},
   "outputs": [
    {
     "data": {
      "text/plain": [
       "torch.Size([4000, 20, 11])"
      ]
     },
     "execution_count": 83,
     "metadata": {},
     "output_type": "execute_result"
    }
   ],
   "source": [
    "input_lstm = input_lstm.view(-1,20,11)\n",
    "input_lstm.shape"
   ]
  },
  {
   "cell_type": "code",
   "execution_count": 84,
   "metadata": {},
   "outputs": [
    {
     "data": {
      "text/plain": [
       "torch.Size([20, 11])"
      ]
     },
     "execution_count": 84,
     "metadata": {},
     "output_type": "execute_result"
    }
   ],
   "source": [
    "input_lstm[5].shape"
   ]
  },
  {
   "cell_type": "code",
   "execution_count": 85,
   "metadata": {},
   "outputs": [],
   "source": [
    "test_input = input_lstm[1]\n",
    "\n",
    "\n",
    "test_input = test_input.view(20,1,11)\n",
    "test_input.shape\n",
    "imu_out, (imu_n, imu_c)  = rnnIMU(test_input)"
   ]
  },
  {
   "cell_type": "code",
   "execution_count": 86,
   "metadata": {},
   "outputs": [
    {
     "data": {
      "text/plain": [
       "torch.Size([20, 1, 11])"
      ]
     },
     "execution_count": 86,
     "metadata": {},
     "output_type": "execute_result"
    }
   ],
   "source": [
    "test_input.shape"
   ]
  },
  {
   "cell_type": "code",
   "execution_count": 87,
   "metadata": {},
   "outputs": [
    {
     "data": {
      "text/plain": [
       "torch.Size([20, 1, 6])"
      ]
     },
     "execution_count": 87,
     "metadata": {},
     "output_type": "execute_result"
    }
   ],
   "source": [
    "imu_out.shape"
   ]
  },
  {
   "cell_type": "code",
   "execution_count": 89,
   "metadata": {},
   "outputs": [
    {
     "data": {
      "text/plain": [
       "torch.Size([1, 1, 120])"
      ]
     },
     "execution_count": 89,
     "metadata": {},
     "output_type": "execute_result"
    }
   ],
   "source": [
    "imu_out.view(1,1,-1).size()"
   ]
  },
  {
   "cell_type": "code",
   "execution_count": null,
   "metadata": {},
   "outputs": [],
   "source": []
  },
  {
   "cell_type": "code",
   "execution_count": 244,
   "metadata": {},
   "outputs": [
    {
     "data": {
      "text/plain": [
       "torch.Size([20, 1, 6])"
      ]
     },
     "execution_count": 244,
     "metadata": {},
     "output_type": "execute_result"
    }
   ],
   "source": [
    "imu_out = imu_out.unsqueeze(1)\n",
    "imu_out.shape"
   ]
  },
  {
   "cell_type": "code",
   "execution_count": 242,
   "metadata": {},
   "outputs": [
    {
     "data": {
      "text/plain": [
       "torch.Size([1, 1, 57344])"
      ]
     },
     "execution_count": 242,
     "metadata": {},
     "output_type": "execute_result"
    }
   ],
   "source": [
    "output.shape"
   ]
  },
  {
   "cell_type": "code",
   "execution_count": 65,
   "metadata": {},
   "outputs": [
    {
     "data": {
      "text/plain": [
       "57464"
      ]
     },
     "execution_count": 65,
     "metadata": {},
     "output_type": "execute_result"
    }
   ],
   "source": [
    "57344+20*6"
   ]
  },
  {
   "cell_type": "code",
   "execution_count": 67,
   "metadata": {},
   "outputs": [
    {
     "data": {
      "text/plain": [
       "torch.Size([1, 20, 3])"
      ]
     },
     "execution_count": 67,
     "metadata": {},
     "output_type": "execute_result"
    }
   ],
   "source": [
    "Y.shape"
   ]
  },
  {
   "cell_type": "code",
   "execution_count": null,
   "metadata": {},
   "outputs": [],
   "source": []
  },
  {
   "cell_type": "code",
   "execution_count": null,
   "metadata": {},
   "outputs": [],
   "source": [
    " "
   ]
  },
  {
   "cell_type": "code",
   "execution_count": 102,
   "metadata": {},
   "outputs": [],
   "source": [
    "class Vinet(nn.Module):\n",
    "    def __init__(self):\n",
    "        super(Vinet, self).__init__()\n",
    "        self.rnn = nn.LSTM(\n",
    "            input_size=57464,#49152,#24576, \n",
    "            hidden_size=1024,#64, \n",
    "            num_layers=2,\n",
    "            batch_first=True)\n",
    "        self.rnn.cuda()\n",
    "        \n",
    "        self.rnnIMU = nn.LSTM(\n",
    "            input_size=11, \n",
    "            hidden_size=6,\n",
    "            num_layers=2,\n",
    "            batch_first=True)\n",
    "        self.rnnIMU.cuda()\n",
    "        \n",
    "        self.linear1 = nn.Linear(1024, 128)\n",
    "        self.linear2 = nn.Linear(128, 3)\n",
    "        #self.linear3 = nn.Linear(128, 6)\n",
    "        self.linear1.cuda()\n",
    "        self.linear2.cuda()\n",
    "        #self.linear3.cuda()\n",
    "        \n",
    "        # load checkpoint state from NVIDIA training\n",
    "        checkpoint = None\n",
    "        checkpoint_pytorch = 'FlowNet2-C_checkpoint.pth.tar'\n",
    "        #checkpoint_pytorch = '/notebooks/data/model/FlowNet2-SD_checkpoint.pth.tar'\n",
    "        if os.path.isfile(checkpoint_pytorch):\n",
    "            checkpoint = torch.load(checkpoint_pytorch,\\\n",
    "                                map_location=lambda storage, loc: storage.cuda(0))\n",
    "            pop_list = [\"deconv5.0.weight\", \"deconv5.0.bias\", \"deconv4.0.weight\", \"deconv4.0.bias\", \"deconv3.0.weight\", \"deconv3.0.bias\", \"deconv2.0.weight\", \"deconv2.0.bias\", \"predict_flow6.weight\", \"predict_flow6.bias\", \"predict_flow5.weight\", \"predict_flow5.bias\", \"predict_flow4.weight\", \"predict_flow4.bias\", \"predict_flow3.weight\", \"predict_flow3.bias\", \"predict_flow2.weight\", \"predict_flow2.bias\", \"upsampled_flow6_to_5.weight\", \"upsampled_flow6_to_5.bias\", \"upsampled_flow5_to_4.weight\", \"upsampled_flow5_to_4.bias\", \"upsampled_flow4_to_3.weight\", \"upsampled_flow4_to_3.bias\", \"upsampled_flow3_to_2.weight\", \"upsampled_flow3_to_2.bias\"]\n",
    "            for name in pop_list:\n",
    "                checkpoint['state_dict'].pop(name);\n",
    "        \n",
    "        self.flownet_c = FlowNetC.FlowNetC(batchNorm=False)\n",
    "\n",
    "        self.flownet_c.load_state_dict(checkpoint['state_dict'])\n",
    "        self.flownet_c.cuda()\n",
    "        \n",
    "        \n",
    "\n",
    "    def forward(self, image, imu):\n",
    "        batch_size, timesteps, C, H, W = image.size()\n",
    "        \n",
    "        ## Input1: Feed image pairs to FlownetC\n",
    "        c_in = image.view(batch_size, timesteps * C, H, W)\n",
    "        c_out = self.flownet_c(c_in)\n",
    "        print('c_out', c_out.shape)\n",
    "        \n",
    "        ## Input2: Feed IMU records to LSTM\n",
    "        imu_out, (imu_n, imu_c) = self.rnnIMU(imu)\n",
    "        # to match Vision output shape\n",
    "        imu_out = imu_out.view(batch_size,1,-1)   # (batch_size, 1, total_hidden_size)\n",
    "        \n",
    "        print('imu_out', imu_out.shape)\n",
    "        \n",
    "        \n",
    "        ## Combine the output of input1 and 2 and feed it to LSTM\n",
    "        #r_in = c_out.view(batch_size, timesteps, -1)\n",
    "        r_in = c_out.view(batch_size, 1, -1)\n",
    "        print('r_in', r_in.shape)\n",
    "        \n",
    "\n",
    "        cat_out = torch.cat((r_in, imu_out), 2)#1 1 49158\n",
    "        print(cat_out.shape)\n",
    "        \n",
    "        \n",
    "        r_out, (h_n, h_c) = self.rnn(cat_out)  # (1, 1, 1024)\n",
    "        print('r_out', r_out.shape)\n",
    "        l_out1 = self.linear1(r_out[:,-1,:])\n",
    "        l_out2 = self.linear2(l_out1)\n",
    "        \n",
    "        print('r_ol_out2ut', l_out2.shape)\n",
    "        #l_out3 = self.linear3(l_out2)\n",
    "\n",
    "        return l_out2"
   ]
  },
  {
   "cell_type": "code",
   "execution_count": 103,
   "metadata": {
    "scrolled": true
   },
   "outputs": [],
   "source": [
    "model = Vinet()"
   ]
  },
  {
   "cell_type": "code",
   "execution_count": 106,
   "metadata": {},
   "outputs": [
    {
     "name": "stdout",
     "output_type": "stream",
     "text": [
      "c_out torch.Size([1, 1024, 8, 7])\n",
      "imu_out torch.Size([1, 1, 120])\n",
      "r_in torch.Size([1, 1, 57344])\n",
      "torch.Size([1, 1, 57464])\n",
      "r_out torch.Size([1, 1, 1024])\n",
      "r_ol_out2ut torch.Size([1, 3])\n"
     ]
    },
    {
     "name": "stderr",
     "output_type": "stream",
     "text": [
      "/pytorch/torch/csrc/autograd/python_function.cpp:622: UserWarning: Legacy autograd function with non-static forward method is deprecated and will be removed in 1.3. Please use new-style autograd function with static forward method. (Example: https://pytorch.org/docs/stable/autograd.html#torch.autograd.Function)\n"
     ]
    }
   ],
   "source": [
    "output = model(X,X2)"
   ]
  },
  {
   "cell_type": "code",
   "execution_count": 108,
   "metadata": {},
   "outputs": [
    {
     "data": {
      "text/plain": [
       "torch.Size([1, 20, 3])"
      ]
     },
     "execution_count": 108,
     "metadata": {},
     "output_type": "execute_result"
    }
   ],
   "source": [
    "Y.shape"
   ]
  },
  {
   "cell_type": "code",
   "execution_count": 110,
   "metadata": {},
   "outputs": [
    {
     "data": {
      "text/plain": [
       "torch.Size([1, 3])"
      ]
     },
     "execution_count": 110,
     "metadata": {},
     "output_type": "execute_result"
    }
   ],
   "source": [
    "Y.mean(dim=1).shape"
   ]
  },
  {
   "cell_type": "code",
   "execution_count": 105,
   "metadata": {
    "scrolled": true
   },
   "outputs": [
    {
     "data": {
      "text/plain": [
       "torch.Size([1, 3])"
      ]
     },
     "execution_count": 105,
     "metadata": {},
     "output_type": "execute_result"
    }
   ],
   "source": [
    "output.shape"
   ]
  },
  {
   "cell_type": "code",
   "execution_count": 112,
   "metadata": {},
   "outputs": [],
   "source": [
    "from torchviz import make_dot, make_dot_from_trace"
   ]
  },
  {
   "cell_type": "code",
   "execution_count": 114,
   "metadata": {},
   "outputs": [
    {
     "name": "stderr",
     "output_type": "stream",
     "text": [
      "/pytorch/torch/csrc/autograd/python_function.cpp:622: UserWarning: Legacy autograd function with non-static forward method is deprecated and will be removed in 1.3. Please use new-style autograd function with static forward method. (Example: https://pytorch.org/docs/stable/autograd.html#torch.autograd.Function)\n"
     ]
    },
    {
     "name": "stdout",
     "output_type": "stream",
     "text": [
      "c_out torch.Size([1, 1024, 8, 7])\n",
      "imu_out torch.Size([1, 1, 120])\n",
      "r_in torch.Size([1, 1, 57344])\n",
      "torch.Size([1, 1, 57464])\n",
      "r_out torch.Size([1, 1, 1024])\n",
      "r_ol_out2ut torch.Size([1, 3])\n"
     ]
    },
    {
     "data": {
      "image/svg+xml": [
       "<?xml version=\"1.0\" encoding=\"UTF-8\" standalone=\"no\"?>\n",
       "<!DOCTYPE svg PUBLIC \"-//W3C//DTD SVG 1.1//EN\"\n",
       " \"http://www.w3.org/Graphics/SVG/1.1/DTD/svg11.dtd\">\n",
       "<!-- Generated by graphviz version 2.40.1 (20161225.0304)\n",
       " -->\n",
       "<!-- Title: %3 Pages: 1 -->\n",
       "<svg width=\"1944pt\" height=\"1458pt\"\n",
       " viewBox=\"0.00 0.00 1944.00 1457.73\" xmlns=\"http://www.w3.org/2000/svg\" xmlns:xlink=\"http://www.w3.org/1999/xlink\">\n",
       "<g id=\"graph0\" class=\"graph\" transform=\"scale(.7274 .7274) rotate(0) translate(4 2000)\">\n",
       "<title>%3</title>\n",
       "<polygon fill=\"#ffffff\" stroke=\"transparent\" points=\"-4,4 -4,-2000 2668.5,-2000 2668.5,4 -4,4\"/>\n",
       "<!-- 140594704357192 -->\n",
       "<g id=\"node1\" class=\"node\">\n",
       "<title>140594704357192</title>\n",
       "<polygon fill=\"#caff70\" stroke=\"#000000\" points=\"2255,-21 2151,-21 2151,0 2255,0 2255,-21\"/>\n",
       "<text text-anchor=\"middle\" x=\"2203\" y=\"-7.4\" font-family=\"Times,serif\" font-size=\"12.00\" fill=\"#000000\">AddmmBackward</text>\n",
       "</g>\n",
       "<!-- 140594704357640 -->\n",
       "<g id=\"node2\" class=\"node\">\n",
       "<title>140594704357640</title>\n",
       "<polygon fill=\"#add8e6\" stroke=\"#000000\" points=\"2132.5,-91 2061.5,-91 2061.5,-57 2132.5,-57 2132.5,-91\"/>\n",
       "<text text-anchor=\"middle\" x=\"2097\" y=\"-77.4\" font-family=\"Times,serif\" font-size=\"12.00\" fill=\"#000000\">linear2.bias</text>\n",
       "<text text-anchor=\"middle\" x=\"2097\" y=\"-64.4\" font-family=\"Times,serif\" font-size=\"12.00\" fill=\"#000000\"> (3)</text>\n",
       "</g>\n",
       "<!-- 140594704357640&#45;&gt;140594704357192 -->\n",
       "<g id=\"edge1\" class=\"edge\">\n",
       "<title>140594704357640&#45;&gt;140594704357192</title>\n",
       "<path fill=\"none\" stroke=\"#000000\" d=\"M2125.4061,-56.9832C2141.2979,-47.4631 2160.9803,-35.6722 2176.5452,-26.3479\"/>\n",
       "<polygon fill=\"#000000\" stroke=\"#000000\" points=\"2178.3941,-29.3204 2185.1739,-21.1788 2174.7968,-23.3154 2178.3941,-29.3204\"/>\n",
       "</g>\n",
       "<!-- 140594704356408 -->\n",
       "<g id=\"node3\" class=\"node\">\n",
       "<title>140594704356408</title>\n",
       "<polygon fill=\"#d3d3d3\" stroke=\"#000000\" points=\"2255,-84.5 2151,-84.5 2151,-63.5 2255,-63.5 2255,-84.5\"/>\n",
       "<text text-anchor=\"middle\" x=\"2203\" y=\"-70.9\" font-family=\"Times,serif\" font-size=\"12.00\" fill=\"#000000\">AddmmBackward</text>\n",
       "</g>\n",
       "<!-- 140594704356408&#45;&gt;140594704357192 -->\n",
       "<g id=\"edge2\" class=\"edge\">\n",
       "<title>140594704356408&#45;&gt;140594704357192</title>\n",
       "<path fill=\"none\" stroke=\"#000000\" d=\"M2203,-63.2281C2203,-54.5091 2203,-41.9699 2203,-31.3068\"/>\n",
       "<polygon fill=\"#000000\" stroke=\"#000000\" points=\"2206.5001,-31.1128 2203,-21.1128 2199.5001,-31.1129 2206.5001,-31.1128\"/>\n",
       "</g>\n",
       "<!-- 140594704356856 -->\n",
       "<g id=\"node4\" class=\"node\">\n",
       "<title>140594704356856</title>\n",
       "<polygon fill=\"#add8e6\" stroke=\"#000000\" points=\"2118.5,-161 2047.5,-161 2047.5,-127 2118.5,-127 2118.5,-161\"/>\n",
       "<text text-anchor=\"middle\" x=\"2083\" y=\"-147.4\" font-family=\"Times,serif\" font-size=\"12.00\" fill=\"#000000\">linear1.bias</text>\n",
       "<text text-anchor=\"middle\" x=\"2083\" y=\"-134.4\" font-family=\"Times,serif\" font-size=\"12.00\" fill=\"#000000\"> (128)</text>\n",
       "</g>\n",
       "<!-- 140594704356856&#45;&gt;140594704356408 -->\n",
       "<g id=\"edge3\" class=\"edge\">\n",
       "<title>140594704356856&#45;&gt;140594704356408</title>\n",
       "<path fill=\"none\" stroke=\"#000000\" d=\"M2112.3553,-126.8761C2131.7943,-115.5366 2157.0996,-100.7752 2176.0312,-89.7318\"/>\n",
       "<polygon fill=\"#000000\" stroke=\"#000000\" points=\"2177.8851,-92.7024 2184.7593,-84.6404 2174.3579,-86.6559 2177.8851,-92.7024\"/>\n",
       "</g>\n",
       "<!-- 140594704357752 -->\n",
       "<g id=\"node5\" class=\"node\">\n",
       "<title>140594704357752</title>\n",
       "<polygon fill=\"#d3d3d3\" stroke=\"#000000\" points=\"2225.5,-154.5 2136.5,-154.5 2136.5,-133.5 2225.5,-133.5 2225.5,-154.5\"/>\n",
       "<text text-anchor=\"middle\" x=\"2181\" y=\"-140.9\" font-family=\"Times,serif\" font-size=\"12.00\" fill=\"#000000\">SliceBackward</text>\n",
       "</g>\n",
       "<!-- 140594704357752&#45;&gt;140594704356408 -->\n",
       "<g id=\"edge4\" class=\"edge\">\n",
       "<title>140594704357752&#45;&gt;140594704356408</title>\n",
       "<path fill=\"none\" stroke=\"#000000\" d=\"M2184.3413,-133.3685C2187.5718,-123.0897 2192.5518,-107.2443 2196.5546,-94.5082\"/>\n",
       "<polygon fill=\"#000000\" stroke=\"#000000\" points=\"2199.9679,-95.3209 2199.6272,-84.7315 2193.2899,-93.2221 2199.9679,-95.3209\"/>\n",
       "</g>\n",
       "<!-- 140594704359096 -->\n",
       "<g id=\"node6\" class=\"node\">\n",
       "<title>140594704359096</title>\n",
       "<polygon fill=\"#d3d3d3\" stroke=\"#000000\" points=\"2224,-224.5 2130,-224.5 2130,-203.5 2224,-203.5 2224,-224.5\"/>\n",
       "<text text-anchor=\"middle\" x=\"2177\" y=\"-210.9\" font-family=\"Times,serif\" font-size=\"12.00\" fill=\"#000000\">SelectBackward</text>\n",
       "</g>\n",
       "<!-- 140594704359096&#45;&gt;140594704357752 -->\n",
       "<g id=\"edge5\" class=\"edge\">\n",
       "<title>140594704359096&#45;&gt;140594704357752</title>\n",
       "<path fill=\"none\" stroke=\"#000000\" d=\"M2177.6075,-203.3685C2178.189,-193.1925 2179.0822,-177.5606 2179.8062,-164.8912\"/>\n",
       "<polygon fill=\"#000000\" stroke=\"#000000\" points=\"2183.3105,-164.915 2180.3868,-154.7315 2176.3219,-164.5156 2183.3105,-164.915\"/>\n",
       "</g>\n",
       "<!-- 140594704380088 -->\n",
       "<g id=\"node7\" class=\"node\">\n",
       "<title>140594704380088</title>\n",
       "<polygon fill=\"#d3d3d3\" stroke=\"#000000\" points=\"2221.5,-288 2132.5,-288 2132.5,-267 2221.5,-267 2221.5,-288\"/>\n",
       "<text text-anchor=\"middle\" x=\"2177\" y=\"-274.4\" font-family=\"Times,serif\" font-size=\"12.00\" fill=\"#000000\">SliceBackward</text>\n",
       "</g>\n",
       "<!-- 140594704380088&#45;&gt;140594704359096 -->\n",
       "<g id=\"edge6\" class=\"edge\">\n",
       "<title>140594704380088&#45;&gt;140594704359096</title>\n",
       "<path fill=\"none\" stroke=\"#000000\" d=\"M2177,-266.7281C2177,-258.0091 2177,-245.4699 2177,-234.8068\"/>\n",
       "<polygon fill=\"#000000\" stroke=\"#000000\" points=\"2180.5001,-234.6128 2177,-224.6128 2173.5001,-234.6129 2180.5001,-234.6128\"/>\n",
       "</g>\n",
       "<!-- 140594704380312 -->\n",
       "<g id=\"node8\" class=\"node\">\n",
       "<title>140594704380312</title>\n",
       "<polygon fill=\"#d3d3d3\" stroke=\"#000000\" points=\"2236,-345 2118,-345 2118,-324 2236,-324 2236,-345\"/>\n",
       "<text text-anchor=\"middle\" x=\"2177\" y=\"-331.4\" font-family=\"Times,serif\" font-size=\"12.00\" fill=\"#000000\">CudnnRnnBackward</text>\n",
       "</g>\n",
       "<!-- 140594704380312&#45;&gt;140594704380088 -->\n",
       "<g id=\"edge7\" class=\"edge\">\n",
       "<title>140594704380312&#45;&gt;140594704380088</title>\n",
       "<path fill=\"none\" stroke=\"#000000\" d=\"M2177,-323.7787C2177,-316.6134 2177,-306.9517 2177,-298.3097\"/>\n",
       "<polygon fill=\"#000000\" stroke=\"#000000\" points=\"2180.5001,-298.1732 2177,-288.1732 2173.5001,-298.1732 2180.5001,-298.1732\"/>\n",
       "</g>\n",
       "<!-- 140594704380536 -->\n",
       "<g id=\"node9\" class=\"node\">\n",
       "<title>140594704380536</title>\n",
       "<polygon fill=\"#d3d3d3\" stroke=\"#000000\" points=\"1777,-408.5 1695,-408.5 1695,-387.5 1777,-387.5 1777,-408.5\"/>\n",
       "<text text-anchor=\"middle\" x=\"1736\" y=\"-394.9\" font-family=\"Times,serif\" font-size=\"12.00\" fill=\"#000000\">CatBackward</text>\n",
       "</g>\n",
       "<!-- 140594704380536&#45;&gt;140594704380312 -->\n",
       "<g id=\"edge8\" class=\"edge\">\n",
       "<title>140594704380536&#45;&gt;140594704380312</title>\n",
       "<path fill=\"none\" stroke=\"#000000\" d=\"M1763.7348,-387.4202C1770.9031,-385.005 1778.668,-382.6631 1786,-381 1896.8563,-355.8546 2028.6673,-343.7566 2107.4393,-338.3653\"/>\n",
       "<polygon fill=\"#000000\" stroke=\"#000000\" points=\"2107.9772,-341.8373 2117.7219,-337.6791 2107.5111,-334.8528 2107.9772,-341.8373\"/>\n",
       "</g>\n",
       "<!-- 140594704382104 -->\n",
       "<g id=\"node10\" class=\"node\">\n",
       "<title>140594704382104</title>\n",
       "<polygon fill=\"#d3d3d3\" stroke=\"#000000\" points=\"1727,-472 1635,-472 1635,-451 1727,-451 1727,-472\"/>\n",
       "<text text-anchor=\"middle\" x=\"1681\" y=\"-458.4\" font-family=\"Times,serif\" font-size=\"12.00\" fill=\"#000000\">ViewBackward</text>\n",
       "</g>\n",
       "<!-- 140594704382104&#45;&gt;140594704380536 -->\n",
       "<g id=\"edge9\" class=\"edge\">\n",
       "<title>140594704382104&#45;&gt;140594704380536</title>\n",
       "<path fill=\"none\" stroke=\"#000000\" d=\"M1690.33,-450.7281C1698.4383,-441.3667 1710.3611,-427.6012 1719.9914,-416.4826\"/>\n",
       "<polygon fill=\"#000000\" stroke=\"#000000\" points=\"1722.9063,-418.4632 1726.8078,-408.6128 1717.6151,-413.8802 1722.9063,-418.4632\"/>\n",
       "</g>\n",
       "<!-- 140594704382440 -->\n",
       "<g id=\"node11\" class=\"node\">\n",
       "<title>140594704382440</title>\n",
       "<polygon fill=\"#d3d3d3\" stroke=\"#000000\" points=\"1729,-529 1605,-529 1605,-508 1729,-508 1729,-529\"/>\n",
       "<text text-anchor=\"middle\" x=\"1667\" y=\"-515.4\" font-family=\"Times,serif\" font-size=\"12.00\" fill=\"#000000\">LeakyReluBackward1</text>\n",
       "</g>\n",
       "<!-- 140594704382440&#45;&gt;140594704382104 -->\n",
       "<g id=\"edge10\" class=\"edge\">\n",
       "<title>140594704382440&#45;&gt;140594704382104</title>\n",
       "<path fill=\"none\" stroke=\"#000000\" d=\"M1669.6333,-507.7787C1671.4128,-500.5338 1673.8191,-490.7367 1675.9595,-482.0221\"/>\n",
       "<polygon fill=\"#000000\" stroke=\"#000000\" points=\"1679.3922,-482.7194 1678.3785,-472.1732 1672.5942,-481.0497 1679.3922,-482.7194\"/>\n",
       "</g>\n",
       "<!-- 140594704382664 -->\n",
       "<g id=\"node12\" class=\"node\">\n",
       "<title>140594704382664</title>\n",
       "<polygon fill=\"#d3d3d3\" stroke=\"#000000\" points=\"1534.5,-592.5 1377.5,-592.5 1377.5,-571.5 1534.5,-571.5 1534.5,-592.5\"/>\n",
       "<text text-anchor=\"middle\" x=\"1456\" y=\"-578.9\" font-family=\"Times,serif\" font-size=\"12.00\" fill=\"#000000\">CudnnConvolutionBackward</text>\n",
       "</g>\n",
       "<!-- 140594704382664&#45;&gt;140594704382440 -->\n",
       "<g id=\"edge11\" class=\"edge\">\n",
       "<title>140594704382664&#45;&gt;140594704382440</title>\n",
       "<path fill=\"none\" stroke=\"#000000\" d=\"M1491.3167,-571.3715C1527.1787,-560.5789 1582.8419,-543.8272 1621.8789,-532.0791\"/>\n",
       "<polygon fill=\"#000000\" stroke=\"#000000\" points=\"1623.3527,-535.2907 1631.9199,-529.0573 1621.3354,-528.5876 1623.3527,-535.2907\"/>\n",
       "</g>\n",
       "<!-- 140594704382888 -->\n",
       "<g id=\"node13\" class=\"node\">\n",
       "<title>140594704382888</title>\n",
       "<polygon fill=\"#d3d3d3\" stroke=\"#000000\" points=\"1362,-662.5 1238,-662.5 1238,-641.5 1362,-641.5 1362,-662.5\"/>\n",
       "<text text-anchor=\"middle\" x=\"1300\" y=\"-648.9\" font-family=\"Times,serif\" font-size=\"12.00\" fill=\"#000000\">LeakyReluBackward1</text>\n",
       "</g>\n",
       "<!-- 140594704382888&#45;&gt;140594704382664 -->\n",
       "<g id=\"edge12\" class=\"edge\">\n",
       "<title>140594704382888&#45;&gt;140594704382664</title>\n",
       "<path fill=\"none\" stroke=\"#000000\" d=\"M1323.693,-641.3685C1350.3045,-629.4275 1393.6583,-609.9738 1423.4408,-596.6099\"/>\n",
       "<polygon fill=\"#000000\" stroke=\"#000000\" points=\"1424.9044,-599.7894 1432.5951,-592.5022 1422.0386,-593.4029 1424.9044,-599.7894\"/>\n",
       "</g>\n",
       "<!-- 140594704383336 -->\n",
       "<g id=\"node14\" class=\"node\">\n",
       "<title>140594704383336</title>\n",
       "<polygon fill=\"#d3d3d3\" stroke=\"#000000\" points=\"1378.5,-726 1221.5,-726 1221.5,-705 1378.5,-705 1378.5,-726\"/>\n",
       "<text text-anchor=\"middle\" x=\"1300\" y=\"-712.4\" font-family=\"Times,serif\" font-size=\"12.00\" fill=\"#000000\">CudnnConvolutionBackward</text>\n",
       "</g>\n",
       "<!-- 140594704383336&#45;&gt;140594704382888 -->\n",
       "<g id=\"edge13\" class=\"edge\">\n",
       "<title>140594704383336&#45;&gt;140594704382888</title>\n",
       "<path fill=\"none\" stroke=\"#000000\" d=\"M1300,-704.7281C1300,-696.0091 1300,-683.4699 1300,-672.8068\"/>\n",
       "<polygon fill=\"#000000\" stroke=\"#000000\" points=\"1303.5001,-672.6128 1300,-662.6128 1296.5001,-672.6129 1303.5001,-672.6128\"/>\n",
       "</g>\n",
       "<!-- 140594704383560 -->\n",
       "<g id=\"node15\" class=\"node\">\n",
       "<title>140594704383560</title>\n",
       "<polygon fill=\"#d3d3d3\" stroke=\"#000000\" points=\"1212,-789.5 1088,-789.5 1088,-768.5 1212,-768.5 1212,-789.5\"/>\n",
       "<text text-anchor=\"middle\" x=\"1150\" y=\"-775.9\" font-family=\"Times,serif\" font-size=\"12.00\" fill=\"#000000\">LeakyReluBackward1</text>\n",
       "</g>\n",
       "<!-- 140594704383560&#45;&gt;140594704383336 -->\n",
       "<g id=\"edge14\" class=\"edge\">\n",
       "<title>140594704383560&#45;&gt;140594704383336</title>\n",
       "<path fill=\"none\" stroke=\"#000000\" d=\"M1175.1066,-768.3715C1199.8754,-757.8861 1237.9311,-741.7758 1265.526,-730.094\"/>\n",
       "<polygon fill=\"#000000\" stroke=\"#000000\" points=\"1266.9671,-733.2847 1274.8115,-726.1631 1264.2382,-726.8385 1266.9671,-733.2847\"/>\n",
       "</g>\n",
       "<!-- 140597393884664 -->\n",
       "<g id=\"node16\" class=\"node\">\n",
       "<title>140597393884664</title>\n",
       "<polygon fill=\"#d3d3d3\" stroke=\"#000000\" points=\"1228.5,-853 1071.5,-853 1071.5,-832 1228.5,-832 1228.5,-853\"/>\n",
       "<text text-anchor=\"middle\" x=\"1150\" y=\"-839.4\" font-family=\"Times,serif\" font-size=\"12.00\" fill=\"#000000\">CudnnConvolutionBackward</text>\n",
       "</g>\n",
       "<!-- 140597393884664&#45;&gt;140594704383560 -->\n",
       "<g id=\"edge15\" class=\"edge\">\n",
       "<title>140597393884664&#45;&gt;140594704383560</title>\n",
       "<path fill=\"none\" stroke=\"#000000\" d=\"M1150,-831.7281C1150,-823.0091 1150,-810.4699 1150,-799.8068\"/>\n",
       "<polygon fill=\"#000000\" stroke=\"#000000\" points=\"1153.5001,-799.6128 1150,-789.6128 1146.5001,-799.6129 1153.5001,-799.6128\"/>\n",
       "</g>\n",
       "<!-- 140594704359944 -->\n",
       "<g id=\"node17\" class=\"node\">\n",
       "<title>140594704359944</title>\n",
       "<polygon fill=\"#d3d3d3\" stroke=\"#000000\" points=\"1056,-916.5 932,-916.5 932,-895.5 1056,-895.5 1056,-916.5\"/>\n",
       "<text text-anchor=\"middle\" x=\"994\" y=\"-902.9\" font-family=\"Times,serif\" font-size=\"12.00\" fill=\"#000000\">LeakyReluBackward1</text>\n",
       "</g>\n",
       "<!-- 140594704359944&#45;&gt;140597393884664 -->\n",
       "<g id=\"edge16\" class=\"edge\">\n",
       "<title>140594704359944&#45;&gt;140597393884664</title>\n",
       "<path fill=\"none\" stroke=\"#000000\" d=\"M1020.1109,-895.3715C1046.0609,-884.8086 1086.0342,-868.5374 1114.7817,-856.8357\"/>\n",
       "<polygon fill=\"#000000\" stroke=\"#000000\" points=\"1116.1215,-860.0692 1124.064,-853.0573 1113.4823,-853.5858 1116.1215,-860.0692\"/>\n",
       "</g>\n",
       "<!-- 140594704360392 -->\n",
       "<g id=\"node18\" class=\"node\">\n",
       "<title>140594704360392</title>\n",
       "<polygon fill=\"#d3d3d3\" stroke=\"#000000\" points=\"1072.5,-980 915.5,-980 915.5,-959 1072.5,-959 1072.5,-980\"/>\n",
       "<text text-anchor=\"middle\" x=\"994\" y=\"-966.4\" font-family=\"Times,serif\" font-size=\"12.00\" fill=\"#000000\">CudnnConvolutionBackward</text>\n",
       "</g>\n",
       "<!-- 140594704360392&#45;&gt;140594704359944 -->\n",
       "<g id=\"edge17\" class=\"edge\">\n",
       "<title>140594704360392&#45;&gt;140594704359944</title>\n",
       "<path fill=\"none\" stroke=\"#000000\" d=\"M994,-958.7281C994,-950.0091 994,-937.4699 994,-926.8068\"/>\n",
       "<polygon fill=\"#000000\" stroke=\"#000000\" points=\"997.5001,-926.6128 994,-916.6128 990.5001,-926.6129 997.5001,-926.6128\"/>\n",
       "</g>\n",
       "<!-- 140594704360616 -->\n",
       "<g id=\"node19\" class=\"node\">\n",
       "<title>140594704360616</title>\n",
       "<polygon fill=\"#d3d3d3\" stroke=\"#000000\" points=\"906,-1043.5 782,-1043.5 782,-1022.5 906,-1022.5 906,-1043.5\"/>\n",
       "<text text-anchor=\"middle\" x=\"844\" y=\"-1029.9\" font-family=\"Times,serif\" font-size=\"12.00\" fill=\"#000000\">LeakyReluBackward1</text>\n",
       "</g>\n",
       "<!-- 140594704360616&#45;&gt;140594704360392 -->\n",
       "<g id=\"edge18\" class=\"edge\">\n",
       "<title>140594704360616&#45;&gt;140594704360392</title>\n",
       "<path fill=\"none\" stroke=\"#000000\" d=\"M869.1066,-1022.3715C893.8754,-1011.8861 931.9311,-995.7758 959.526,-984.094\"/>\n",
       "<polygon fill=\"#000000\" stroke=\"#000000\" points=\"960.9671,-987.2847 968.8115,-980.1631 958.2382,-980.8385 960.9671,-987.2847\"/>\n",
       "</g>\n",
       "<!-- 140594704361064 -->\n",
       "<g id=\"node20\" class=\"node\">\n",
       "<title>140594704361064</title>\n",
       "<polygon fill=\"#d3d3d3\" stroke=\"#000000\" points=\"922.5,-1107 765.5,-1107 765.5,-1086 922.5,-1086 922.5,-1107\"/>\n",
       "<text text-anchor=\"middle\" x=\"844\" y=\"-1093.4\" font-family=\"Times,serif\" font-size=\"12.00\" fill=\"#000000\">CudnnConvolutionBackward</text>\n",
       "</g>\n",
       "<!-- 140594704361064&#45;&gt;140594704360616 -->\n",
       "<g id=\"edge19\" class=\"edge\">\n",
       "<title>140594704361064&#45;&gt;140594704360616</title>\n",
       "<path fill=\"none\" stroke=\"#000000\" d=\"M844,-1085.7281C844,-1077.0091 844,-1064.4699 844,-1053.8068\"/>\n",
       "<polygon fill=\"#000000\" stroke=\"#000000\" points=\"847.5001,-1053.6128 844,-1043.6128 840.5001,-1053.6129 847.5001,-1053.6128\"/>\n",
       "</g>\n",
       "<!-- 140594704361288 -->\n",
       "<g id=\"node21\" class=\"node\">\n",
       "<title>140594704361288</title>\n",
       "<polygon fill=\"#d3d3d3\" stroke=\"#000000\" points=\"750,-1170.5 626,-1170.5 626,-1149.5 750,-1149.5 750,-1170.5\"/>\n",
       "<text text-anchor=\"middle\" x=\"688\" y=\"-1156.9\" font-family=\"Times,serif\" font-size=\"12.00\" fill=\"#000000\">LeakyReluBackward1</text>\n",
       "</g>\n",
       "<!-- 140594704361288&#45;&gt;140594704361064 -->\n",
       "<g id=\"edge20\" class=\"edge\">\n",
       "<title>140594704361288&#45;&gt;140594704361064</title>\n",
       "<path fill=\"none\" stroke=\"#000000\" d=\"M714.1109,-1149.3715C740.0609,-1138.8086 780.0342,-1122.5374 808.7817,-1110.8357\"/>\n",
       "<polygon fill=\"#000000\" stroke=\"#000000\" points=\"810.1215,-1114.0692 818.064,-1107.0573 807.4823,-1107.5858 810.1215,-1114.0692\"/>\n",
       "</g>\n",
       "<!-- 140594704361736 -->\n",
       "<g id=\"node22\" class=\"node\">\n",
       "<title>140594704361736</title>\n",
       "<polygon fill=\"#d3d3d3\" stroke=\"#000000\" points=\"766.5,-1234 609.5,-1234 609.5,-1213 766.5,-1213 766.5,-1234\"/>\n",
       "<text text-anchor=\"middle\" x=\"688\" y=\"-1220.4\" font-family=\"Times,serif\" font-size=\"12.00\" fill=\"#000000\">CudnnConvolutionBackward</text>\n",
       "</g>\n",
       "<!-- 140594704361736&#45;&gt;140594704361288 -->\n",
       "<g id=\"edge21\" class=\"edge\">\n",
       "<title>140594704361736&#45;&gt;140594704361288</title>\n",
       "<path fill=\"none\" stroke=\"#000000\" d=\"M688,-1212.7281C688,-1204.0091 688,-1191.4699 688,-1180.8068\"/>\n",
       "<polygon fill=\"#000000\" stroke=\"#000000\" points=\"691.5001,-1180.6128 688,-1170.6128 684.5001,-1180.6129 691.5001,-1180.6128\"/>\n",
       "</g>\n",
       "<!-- 140594704361960 -->\n",
       "<g id=\"node23\" class=\"node\">\n",
       "<title>140594704361960</title>\n",
       "<polygon fill=\"#d3d3d3\" stroke=\"#000000\" points=\"600,-1297.5 476,-1297.5 476,-1276.5 600,-1276.5 600,-1297.5\"/>\n",
       "<text text-anchor=\"middle\" x=\"538\" y=\"-1283.9\" font-family=\"Times,serif\" font-size=\"12.00\" fill=\"#000000\">LeakyReluBackward1</text>\n",
       "</g>\n",
       "<!-- 140594704361960&#45;&gt;140594704361736 -->\n",
       "<g id=\"edge22\" class=\"edge\">\n",
       "<title>140594704361960&#45;&gt;140594704361736</title>\n",
       "<path fill=\"none\" stroke=\"#000000\" d=\"M563.1066,-1276.3715C587.8754,-1265.8861 625.9311,-1249.7758 653.526,-1238.094\"/>\n",
       "<polygon fill=\"#000000\" stroke=\"#000000\" points=\"654.9671,-1241.2847 662.8115,-1234.1631 652.2382,-1234.8385 654.9671,-1241.2847\"/>\n",
       "</g>\n",
       "<!-- 140594704362408 -->\n",
       "<g id=\"node24\" class=\"node\">\n",
       "<title>140594704362408</title>\n",
       "<polygon fill=\"#d3d3d3\" stroke=\"#000000\" points=\"616.5,-1361 459.5,-1361 459.5,-1340 616.5,-1340 616.5,-1361\"/>\n",
       "<text text-anchor=\"middle\" x=\"538\" y=\"-1347.4\" font-family=\"Times,serif\" font-size=\"12.00\" fill=\"#000000\">CudnnConvolutionBackward</text>\n",
       "</g>\n",
       "<!-- 140594704362408&#45;&gt;140594704361960 -->\n",
       "<g id=\"edge23\" class=\"edge\">\n",
       "<title>140594704362408&#45;&gt;140594704361960</title>\n",
       "<path fill=\"none\" stroke=\"#000000\" d=\"M538,-1339.7281C538,-1331.0091 538,-1318.4699 538,-1307.8068\"/>\n",
       "<polygon fill=\"#000000\" stroke=\"#000000\" points=\"541.5001,-1307.6128 538,-1297.6128 534.5001,-1307.6129 541.5001,-1307.6128\"/>\n",
       "</g>\n",
       "<!-- 140594704362632 -->\n",
       "<g id=\"node25\" class=\"node\">\n",
       "<title>140594704362632</title>\n",
       "<polygon fill=\"#d3d3d3\" stroke=\"#000000\" points=\"444,-1424.5 362,-1424.5 362,-1403.5 444,-1403.5 444,-1424.5\"/>\n",
       "<text text-anchor=\"middle\" x=\"403\" y=\"-1410.9\" font-family=\"Times,serif\" font-size=\"12.00\" fill=\"#000000\">CatBackward</text>\n",
       "</g>\n",
       "<!-- 140594704362632&#45;&gt;140594704362408 -->\n",
       "<g id=\"edge24\" class=\"edge\">\n",
       "<title>140594704362632&#45;&gt;140594704362408</title>\n",
       "<path fill=\"none\" stroke=\"#000000\" d=\"M425.596,-1403.3715C447.5959,-1393.0234 481.2427,-1377.197 505.9925,-1365.5554\"/>\n",
       "<polygon fill=\"#000000\" stroke=\"#000000\" points=\"507.7711,-1368.5867 515.3303,-1361.1631 504.7916,-1362.2524 507.7711,-1368.5867\"/>\n",
       "</g>\n",
       "<!-- 140594704363080 -->\n",
       "<g id=\"node26\" class=\"node\">\n",
       "<title>140594704363080</title>\n",
       "<polygon fill=\"#d3d3d3\" stroke=\"#000000\" points=\"394,-1488 270,-1488 270,-1467 394,-1467 394,-1488\"/>\n",
       "<text text-anchor=\"middle\" x=\"332\" y=\"-1474.4\" font-family=\"Times,serif\" font-size=\"12.00\" fill=\"#000000\">LeakyReluBackward1</text>\n",
       "</g>\n",
       "<!-- 140594704363080&#45;&gt;140594704362632 -->\n",
       "<g id=\"edge25\" class=\"edge\">\n",
       "<title>140594704363080&#45;&gt;140594704362632</title>\n",
       "<path fill=\"none\" stroke=\"#000000\" d=\"M344.0442,-1466.7281C354.8191,-1457.0914 370.8122,-1442.7877 383.4235,-1431.5086\"/>\n",
       "<polygon fill=\"#000000\" stroke=\"#000000\" points=\"386.0131,-1433.8881 391.1337,-1424.6128 381.3466,-1428.6704 386.0131,-1433.8881\"/>\n",
       "</g>\n",
       "<!-- 140594704363416 -->\n",
       "<g id=\"node27\" class=\"node\">\n",
       "<title>140594704363416</title>\n",
       "<polygon fill=\"#d3d3d3\" stroke=\"#000000\" points=\"405.5,-1545 248.5,-1545 248.5,-1524 405.5,-1524 405.5,-1545\"/>\n",
       "<text text-anchor=\"middle\" x=\"327\" y=\"-1531.4\" font-family=\"Times,serif\" font-size=\"12.00\" fill=\"#000000\">CudnnConvolutionBackward</text>\n",
       "</g>\n",
       "<!-- 140594704363416&#45;&gt;140594704363080 -->\n",
       "<g id=\"edge26\" class=\"edge\">\n",
       "<title>140594704363416&#45;&gt;140594704363080</title>\n",
       "<path fill=\"none\" stroke=\"#000000\" d=\"M327.9405,-1523.7787C328.569,-1516.6134 329.4165,-1506.9517 330.1746,-1498.3097\"/>\n",
       "<polygon fill=\"#000000\" stroke=\"#000000\" points=\"333.6764,-1498.4408 331.0638,-1488.1732 326.7032,-1497.8291 333.6764,-1498.4408\"/>\n",
       "</g>\n",
       "<!-- 140597391499160 -->\n",
       "<g id=\"node28\" class=\"node\">\n",
       "<title>140597391499160</title>\n",
       "<polygon fill=\"#d3d3d3\" stroke=\"#000000\" points=\"471,-1608.5 347,-1608.5 347,-1587.5 471,-1587.5 471,-1608.5\"/>\n",
       "<text text-anchor=\"middle\" x=\"409\" y=\"-1594.9\" font-family=\"Times,serif\" font-size=\"12.00\" fill=\"#000000\">LeakyReluBackward1</text>\n",
       "</g>\n",
       "<!-- 140597391499160&#45;&gt;140594704363416 -->\n",
       "<g id=\"edge27\" class=\"edge\">\n",
       "<title>140597391499160&#45;&gt;140594704363416</title>\n",
       "<path fill=\"none\" stroke=\"#000000\" d=\"M395.0898,-1587.2281C382.4085,-1577.4078 363.4688,-1562.7411 348.7815,-1551.3674\"/>\n",
       "<polygon fill=\"#000000\" stroke=\"#000000\" points=\"350.7542,-1548.4683 340.7048,-1545.1128 346.4683,-1554.0028 350.7542,-1548.4683\"/>\n",
       "</g>\n",
       "<!-- 140597388095048 -->\n",
       "<g id=\"node43\" class=\"node\">\n",
       "<title>140597388095048</title>\n",
       "<polygon fill=\"#d3d3d3\" stroke=\"#000000\" points=\"607,-1545 495,-1545 495,-1524 607,-1524 607,-1545\"/>\n",
       "<text text-anchor=\"middle\" x=\"551\" y=\"-1531.4\" font-family=\"Times,serif\" font-size=\"12.00\" fill=\"#000000\">CorrelationFunction</text>\n",
       "</g>\n",
       "<!-- 140597391499160&#45;&gt;140597388095048 -->\n",
       "<g id=\"edge43\" class=\"edge\">\n",
       "<title>140597391499160&#45;&gt;140597388095048</title>\n",
       "<path fill=\"none\" stroke=\"#000000\" d=\"M432.7676,-1587.3715C456.113,-1576.9319 491.927,-1560.9164 518.0218,-1549.2473\"/>\n",
       "<polygon fill=\"#000000\" stroke=\"#000000\" points=\"519.4548,-1552.4405 527.1549,-1545.1631 516.5972,-1546.0504 519.4548,-1552.4405\"/>\n",
       "</g>\n",
       "<!-- 140597391497536 -->\n",
       "<g id=\"node29\" class=\"node\">\n",
       "<title>140597391497536</title>\n",
       "<polygon fill=\"#d3d3d3\" stroke=\"#000000\" points=\"470.5,-1672 313.5,-1672 313.5,-1651 470.5,-1651 470.5,-1672\"/>\n",
       "<text text-anchor=\"middle\" x=\"392\" y=\"-1658.4\" font-family=\"Times,serif\" font-size=\"12.00\" fill=\"#000000\">CudnnConvolutionBackward</text>\n",
       "</g>\n",
       "<!-- 140597391497536&#45;&gt;140597391499160 -->\n",
       "<g id=\"edge28\" class=\"edge\">\n",
       "<title>140597391497536&#45;&gt;140597391499160</title>\n",
       "<path fill=\"none\" stroke=\"#000000\" d=\"M394.8838,-1650.7281C397.2426,-1641.9174 400.6458,-1629.2055 403.5196,-1618.4708\"/>\n",
       "<polygon fill=\"#000000\" stroke=\"#000000\" points=\"406.9535,-1619.1778 406.1588,-1608.6128 400.1917,-1617.3675 406.9535,-1619.1778\"/>\n",
       "</g>\n",
       "<!-- 140597391497200 -->\n",
       "<g id=\"node30\" class=\"node\">\n",
       "<title>140597391497200</title>\n",
       "<polygon fill=\"#d3d3d3\" stroke=\"#000000\" points=\"316,-1735.5 192,-1735.5 192,-1714.5 316,-1714.5 316,-1735.5\"/>\n",
       "<text text-anchor=\"middle\" x=\"254\" y=\"-1721.9\" font-family=\"Times,serif\" font-size=\"12.00\" fill=\"#000000\">LeakyReluBackward1</text>\n",
       "</g>\n",
       "<!-- 140597391497200&#45;&gt;140597391497536 -->\n",
       "<g id=\"edge29\" class=\"edge\">\n",
       "<title>140597391497200&#45;&gt;140597391497536</title>\n",
       "<path fill=\"none\" stroke=\"#000000\" d=\"M277.0981,-1714.3715C299.6864,-1703.9776 334.286,-1688.0568 359.6166,-1676.4011\"/>\n",
       "<polygon fill=\"#000000\" stroke=\"#000000\" points=\"361.2052,-1679.5229 368.8265,-1672.1631 358.2791,-1673.1638 361.2052,-1679.5229\"/>\n",
       "</g>\n",
       "<!-- 140597391499104 -->\n",
       "<g id=\"node31\" class=\"node\">\n",
       "<title>140597391499104</title>\n",
       "<polygon fill=\"#d3d3d3\" stroke=\"#000000\" points=\"467.5,-1799 310.5,-1799 310.5,-1778 467.5,-1778 467.5,-1799\"/>\n",
       "<text text-anchor=\"middle\" x=\"389\" y=\"-1785.4\" font-family=\"Times,serif\" font-size=\"12.00\" fill=\"#000000\">CudnnConvolutionBackward</text>\n",
       "</g>\n",
       "<!-- 140597391499104&#45;&gt;140597391497200 -->\n",
       "<g id=\"edge30\" class=\"edge\">\n",
       "<title>140597391499104&#45;&gt;140597391497200</title>\n",
       "<path fill=\"none\" stroke=\"#000000\" d=\"M366.404,-1777.8715C344.4041,-1767.5234 310.7573,-1751.697 286.0075,-1740.0554\"/>\n",
       "<polygon fill=\"#000000\" stroke=\"#000000\" points=\"287.2084,-1736.7524 276.6697,-1735.6631 284.2289,-1743.0867 287.2084,-1736.7524\"/>\n",
       "</g>\n",
       "<!-- 140597391497088 -->\n",
       "<g id=\"node32\" class=\"node\">\n",
       "<title>140597391497088</title>\n",
       "<polygon fill=\"#d3d3d3\" stroke=\"#000000\" points=\"344,-1862.5 220,-1862.5 220,-1841.5 344,-1841.5 344,-1862.5\"/>\n",
       "<text text-anchor=\"middle\" x=\"282\" y=\"-1848.9\" font-family=\"Times,serif\" font-size=\"12.00\" fill=\"#000000\">LeakyReluBackward1</text>\n",
       "</g>\n",
       "<!-- 140597391497088&#45;&gt;140597391499104 -->\n",
       "<g id=\"edge31\" class=\"edge\">\n",
       "<title>140597391497088&#45;&gt;140597391499104</title>\n",
       "<path fill=\"none\" stroke=\"#000000\" d=\"M300.1511,-1841.2281C317.2399,-1831.0866 343.0382,-1815.7764 362.4401,-1804.2622\"/>\n",
       "<polygon fill=\"#000000\" stroke=\"#000000\" points=\"364.3036,-1807.2263 371.117,-1799.1128 360.7311,-1801.2065 364.3036,-1807.2263\"/>\n",
       "</g>\n",
       "<!-- 140597395102352 -->\n",
       "<g id=\"node33\" class=\"node\">\n",
       "<title>140597395102352</title>\n",
       "<polygon fill=\"#d3d3d3\" stroke=\"#000000\" points=\"495.5,-1926 338.5,-1926 338.5,-1905 495.5,-1905 495.5,-1926\"/>\n",
       "<text text-anchor=\"middle\" x=\"417\" y=\"-1912.4\" font-family=\"Times,serif\" font-size=\"12.00\" fill=\"#000000\">CudnnConvolutionBackward</text>\n",
       "</g>\n",
       "<!-- 140597395102352&#45;&gt;140597391497088 -->\n",
       "<g id=\"edge32\" class=\"edge\">\n",
       "<title>140597395102352&#45;&gt;140597391497088</title>\n",
       "<path fill=\"none\" stroke=\"#000000\" d=\"M394.404,-1904.8715C372.4041,-1894.5234 338.7573,-1878.697 314.0075,-1867.0554\"/>\n",
       "<polygon fill=\"#000000\" stroke=\"#000000\" points=\"315.2084,-1863.7524 304.6697,-1862.6631 312.2289,-1870.0867 315.2084,-1863.7524\"/>\n",
       "</g>\n",
       "<!-- 140597395101512 -->\n",
       "<g id=\"node34\" class=\"node\">\n",
       "<title>140597395101512</title>\n",
       "<polygon fill=\"#add8e6\" stroke=\"#000000\" points=\"498,-1996 358,-1996 358,-1962 498,-1962 498,-1996\"/>\n",
       "<text text-anchor=\"middle\" x=\"428\" y=\"-1982.4\" font-family=\"Times,serif\" font-size=\"12.00\" fill=\"#000000\">flownet_c.conv1.0.weight</text>\n",
       "<text text-anchor=\"middle\" x=\"428\" y=\"-1969.4\" font-family=\"Times,serif\" font-size=\"12.00\" fill=\"#000000\"> (64, 3, 7, 7)</text>\n",
       "</g>\n",
       "<!-- 140597395101512&#45;&gt;140597395102352 -->\n",
       "<g id=\"edge33\" class=\"edge\">\n",
       "<title>140597395101512&#45;&gt;140597395102352</title>\n",
       "<path fill=\"none\" stroke=\"#000000\" d=\"M425.0522,-1961.9832C423.6893,-1954.1157 422.0578,-1944.6973 420.6208,-1936.4019\"/>\n",
       "<polygon fill=\"#000000\" stroke=\"#000000\" points=\"424.0383,-1935.6245 418.8828,-1926.3687 417.1411,-1936.8194 424.0383,-1935.6245\"/>\n",
       "</g>\n",
       "<!-- 140597388335144 -->\n",
       "<g id=\"node49\" class=\"node\">\n",
       "<title>140597388335144</title>\n",
       "<polygon fill=\"#d3d3d3\" stroke=\"#000000\" points=\"670.5,-1926 513.5,-1926 513.5,-1905 670.5,-1905 670.5,-1926\"/>\n",
       "<text text-anchor=\"middle\" x=\"592\" y=\"-1912.4\" font-family=\"Times,serif\" font-size=\"12.00\" fill=\"#000000\">CudnnConvolutionBackward</text>\n",
       "</g>\n",
       "<!-- 140597395101512&#45;&gt;140597388335144 -->\n",
       "<g id=\"edge50\" class=\"edge\">\n",
       "<title>140597395101512&#45;&gt;140597388335144</title>\n",
       "<path fill=\"none\" stroke=\"#000000\" d=\"M471.949,-1961.9832C497.9151,-1951.9292 530.422,-1939.3427 555.0587,-1929.8035\"/>\n",
       "<polygon fill=\"#000000\" stroke=\"#000000\" points=\"556.3585,-1933.0535 564.4201,-1926.1788 553.8309,-1926.5257 556.3585,-1933.0535\"/>\n",
       "</g>\n",
       "<!-- 140597385162824 -->\n",
       "<g id=\"node35\" class=\"node\">\n",
       "<title>140597385162824</title>\n",
       "<polygon fill=\"#add8e6\" stroke=\"#000000\" points=\"649.5,-1996 522.5,-1996 522.5,-1962 649.5,-1962 649.5,-1996\"/>\n",
       "<text text-anchor=\"middle\" x=\"586\" y=\"-1982.4\" font-family=\"Times,serif\" font-size=\"12.00\" fill=\"#000000\">flownet_c.conv1.0.bias</text>\n",
       "<text text-anchor=\"middle\" x=\"586\" y=\"-1969.4\" font-family=\"Times,serif\" font-size=\"12.00\" fill=\"#000000\"> (64)</text>\n",
       "</g>\n",
       "<!-- 140597385162824&#45;&gt;140597395102352 -->\n",
       "<g id=\"edge34\" class=\"edge\">\n",
       "<title>140597385162824&#45;&gt;140597395102352</title>\n",
       "<path fill=\"none\" stroke=\"#000000\" d=\"M540.7111,-1961.9832C513.867,-1951.8968 480.2392,-1939.2615 454.8221,-1929.7113\"/>\n",
       "<polygon fill=\"#000000\" stroke=\"#000000\" points=\"455.7615,-1926.3254 445.1694,-1926.0843 453.2993,-1932.8781 455.7615,-1926.3254\"/>\n",
       "</g>\n",
       "<!-- 140597385162824&#45;&gt;140597388335144 -->\n",
       "<g id=\"edge51\" class=\"edge\">\n",
       "<title>140597385162824&#45;&gt;140597388335144</title>\n",
       "<path fill=\"none\" stroke=\"#000000\" d=\"M587.6079,-1961.9832C588.3513,-1954.1157 589.2412,-1944.6973 590.025,-1936.4019\"/>\n",
       "<polygon fill=\"#000000\" stroke=\"#000000\" points=\"593.5167,-1936.6536 590.973,-1926.3687 586.5478,-1935.9951 593.5167,-1936.6536\"/>\n",
       "</g>\n",
       "<!-- 140597391495744 -->\n",
       "<g id=\"node36\" class=\"node\">\n",
       "<title>140597391495744</title>\n",
       "<polygon fill=\"#add8e6\" stroke=\"#000000\" points=\"502,-1869 362,-1869 362,-1835 502,-1835 502,-1869\"/>\n",
       "<text text-anchor=\"middle\" x=\"432\" y=\"-1855.4\" font-family=\"Times,serif\" font-size=\"12.00\" fill=\"#000000\">flownet_c.conv2.0.weight</text>\n",
       "<text text-anchor=\"middle\" x=\"432\" y=\"-1842.4\" font-family=\"Times,serif\" font-size=\"12.00\" fill=\"#000000\"> (128, 64, 5, 5)</text>\n",
       "</g>\n",
       "<!-- 140597391495744&#45;&gt;140597391499104 -->\n",
       "<g id=\"edge35\" class=\"edge\">\n",
       "<title>140597391495744&#45;&gt;140597391499104</title>\n",
       "<path fill=\"none\" stroke=\"#000000\" d=\"M420.4768,-1834.9832C414.79,-1826.5853 407.9067,-1816.4204 402.0289,-1807.7404\"/>\n",
       "<polygon fill=\"#000000\" stroke=\"#000000\" points=\"404.865,-1805.6864 396.3599,-1799.3687 399.0689,-1809.6113 404.865,-1805.6864\"/>\n",
       "</g>\n",
       "<!-- 140597388335984 -->\n",
       "<g id=\"node47\" class=\"node\">\n",
       "<title>140597388335984</title>\n",
       "<polygon fill=\"#d3d3d3\" stroke=\"#000000\" points=\"705.5,-1799 548.5,-1799 548.5,-1778 705.5,-1778 705.5,-1799\"/>\n",
       "<text text-anchor=\"middle\" x=\"627\" y=\"-1785.4\" font-family=\"Times,serif\" font-size=\"12.00\" fill=\"#000000\">CudnnConvolutionBackward</text>\n",
       "</g>\n",
       "<!-- 140597391495744&#45;&gt;140597388335984 -->\n",
       "<g id=\"edge52\" class=\"edge\">\n",
       "<title>140597391495744&#45;&gt;140597388335984</title>\n",
       "<path fill=\"none\" stroke=\"#000000\" d=\"M484.2564,-1834.9832C515.7786,-1824.7183 555.4077,-1811.8134 584.9073,-1802.2071\"/>\n",
       "<polygon fill=\"#000000\" stroke=\"#000000\" points=\"586.0721,-1805.5088 594.4969,-1799.0843 583.9046,-1798.8528 586.0721,-1805.5088\"/>\n",
       "</g>\n",
       "<!-- 140597394898672 -->\n",
       "<g id=\"node37\" class=\"node\">\n",
       "<title>140597394898672</title>\n",
       "<polygon fill=\"#add8e6\" stroke=\"#000000\" points=\"647.5,-1869 520.5,-1869 520.5,-1835 647.5,-1835 647.5,-1869\"/>\n",
       "<text text-anchor=\"middle\" x=\"584\" y=\"-1855.4\" font-family=\"Times,serif\" font-size=\"12.00\" fill=\"#000000\">flownet_c.conv2.0.bias</text>\n",
       "<text text-anchor=\"middle\" x=\"584\" y=\"-1842.4\" font-family=\"Times,serif\" font-size=\"12.00\" fill=\"#000000\"> (128)</text>\n",
       "</g>\n",
       "<!-- 140597394898672&#45;&gt;140597391499104 -->\n",
       "<g id=\"edge36\" class=\"edge\">\n",
       "<title>140597394898672&#45;&gt;140597391499104</title>\n",
       "<path fill=\"none\" stroke=\"#000000\" d=\"M531.7436,-1834.9832C500.2214,-1824.7183 460.5923,-1811.8134 431.0927,-1802.2071\"/>\n",
       "<polygon fill=\"#000000\" stroke=\"#000000\" points=\"432.0954,-1798.8528 421.5031,-1799.0843 429.9279,-1805.5088 432.0954,-1798.8528\"/>\n",
       "</g>\n",
       "<!-- 140597394898672&#45;&gt;140597388335984 -->\n",
       "<g id=\"edge53\" class=\"edge\">\n",
       "<title>140597394898672&#45;&gt;140597388335984</title>\n",
       "<path fill=\"none\" stroke=\"#000000\" d=\"M595.5232,-1834.9832C601.21,-1826.5853 608.0933,-1816.4204 613.9711,-1807.7404\"/>\n",
       "<polygon fill=\"#000000\" stroke=\"#000000\" points=\"616.9311,-1809.6113 619.6401,-1799.3687 611.135,-1805.6864 616.9311,-1809.6113\"/>\n",
       "</g>\n",
       "<!-- 140597391498992 -->\n",
       "<g id=\"node38\" class=\"node\">\n",
       "<title>140597391498992</title>\n",
       "<polygon fill=\"#add8e6\" stroke=\"#000000\" points=\"474,-1742 334,-1742 334,-1708 474,-1708 474,-1742\"/>\n",
       "<text text-anchor=\"middle\" x=\"404\" y=\"-1728.4\" font-family=\"Times,serif\" font-size=\"12.00\" fill=\"#000000\">flownet_c.conv3.0.weight</text>\n",
       "<text text-anchor=\"middle\" x=\"404\" y=\"-1715.4\" font-family=\"Times,serif\" font-size=\"12.00\" fill=\"#000000\"> (256, 128, 5, 5)</text>\n",
       "</g>\n",
       "<!-- 140597391498992&#45;&gt;140597391497536 -->\n",
       "<g id=\"edge37\" class=\"edge\">\n",
       "<title>140597391498992&#45;&gt;140597391497536</title>\n",
       "<path fill=\"none\" stroke=\"#000000\" d=\"M400.7842,-1707.9832C399.2974,-1700.1157 397.5176,-1690.6973 395.95,-1682.4019\"/>\n",
       "<polygon fill=\"#000000\" stroke=\"#000000\" points=\"399.35,-1681.5448 394.0539,-1672.3687 392.4718,-1682.8447 399.35,-1681.5448\"/>\n",
       "</g>\n",
       "<!-- 140597391498824 -->\n",
       "<g id=\"node45\" class=\"node\">\n",
       "<title>140597391498824</title>\n",
       "<polygon fill=\"#d3d3d3\" stroke=\"#000000\" points=\"645.5,-1672 488.5,-1672 488.5,-1651 645.5,-1651 645.5,-1672\"/>\n",
       "<text text-anchor=\"middle\" x=\"567\" y=\"-1658.4\" font-family=\"Times,serif\" font-size=\"12.00\" fill=\"#000000\">CudnnConvolutionBackward</text>\n",
       "</g>\n",
       "<!-- 140597391498992&#45;&gt;140597391498824 -->\n",
       "<g id=\"edge54\" class=\"edge\">\n",
       "<title>140597391498992&#45;&gt;140597391498824</title>\n",
       "<path fill=\"none\" stroke=\"#000000\" d=\"M447.681,-1707.9832C473.3746,-1697.9737 505.5117,-1685.454 529.9585,-1675.9303\"/>\n",
       "<polygon fill=\"#000000\" stroke=\"#000000\" points=\"531.5408,-1679.0701 539.5882,-1672.1788 528.9998,-1672.5476 531.5408,-1679.0701\"/>\n",
       "</g>\n",
       "<!-- 140597391498376 -->\n",
       "<g id=\"node39\" class=\"node\">\n",
       "<title>140597391498376</title>\n",
       "<polygon fill=\"#add8e6\" stroke=\"#000000\" points=\"619.5,-1742 492.5,-1742 492.5,-1708 619.5,-1708 619.5,-1742\"/>\n",
       "<text text-anchor=\"middle\" x=\"556\" y=\"-1728.4\" font-family=\"Times,serif\" font-size=\"12.00\" fill=\"#000000\">flownet_c.conv3.0.bias</text>\n",
       "<text text-anchor=\"middle\" x=\"556\" y=\"-1715.4\" font-family=\"Times,serif\" font-size=\"12.00\" fill=\"#000000\"> (256)</text>\n",
       "</g>\n",
       "<!-- 140597391498376&#45;&gt;140597391497536 -->\n",
       "<g id=\"edge38\" class=\"edge\">\n",
       "<title>140597391498376&#45;&gt;140597391497536</title>\n",
       "<path fill=\"none\" stroke=\"#000000\" d=\"M512.051,-1707.9832C486.0849,-1697.9292 453.578,-1685.3427 428.9413,-1675.8035\"/>\n",
       "<polygon fill=\"#000000\" stroke=\"#000000\" points=\"430.1691,-1672.5257 419.5799,-1672.1788 427.6415,-1679.0535 430.1691,-1672.5257\"/>\n",
       "</g>\n",
       "<!-- 140597391498376&#45;&gt;140597391498824 -->\n",
       "<g id=\"edge55\" class=\"edge\">\n",
       "<title>140597391498376&#45;&gt;140597391498824</title>\n",
       "<path fill=\"none\" stroke=\"#000000\" d=\"M558.9478,-1707.9832C560.3107,-1700.1157 561.9422,-1690.6973 563.3792,-1682.4019\"/>\n",
       "<polygon fill=\"#000000\" stroke=\"#000000\" points=\"566.8589,-1682.8194 565.1172,-1672.3687 559.9617,-1681.6245 566.8589,-1682.8194\"/>\n",
       "</g>\n",
       "<!-- 140597391497760 -->\n",
       "<g id=\"node40\" class=\"node\">\n",
       "<title>140597391497760</title>\n",
       "<polygon fill=\"#add8e6\" stroke=\"#000000\" points=\"162,-1615 0,-1615 0,-1581 162,-1581 162,-1615\"/>\n",
       "<text text-anchor=\"middle\" x=\"81\" y=\"-1601.4\" font-family=\"Times,serif\" font-size=\"12.00\" fill=\"#000000\">flownet_c.conv_redir.0.weight</text>\n",
       "<text text-anchor=\"middle\" x=\"81\" y=\"-1588.4\" font-family=\"Times,serif\" font-size=\"12.00\" fill=\"#000000\"> (32, 256, 1, 1)</text>\n",
       "</g>\n",
       "<!-- 140597391497760&#45;&gt;140594704363416 -->\n",
       "<g id=\"edge39\" class=\"edge\">\n",
       "<title>140597391497760&#45;&gt;140594704363416</title>\n",
       "<path fill=\"none\" stroke=\"#000000\" d=\"M146.9235,-1580.9832C187.5544,-1570.4951 238.862,-1557.2511 276.3072,-1547.5853\"/>\n",
       "<polygon fill=\"#000000\" stroke=\"#000000\" points=\"277.1882,-1550.9727 285.9961,-1545.0843 275.4386,-1544.1949 277.1882,-1550.9727\"/>\n",
       "</g>\n",
       "<!-- 140597391498152 -->\n",
       "<g id=\"node41\" class=\"node\">\n",
       "<title>140597391498152</title>\n",
       "<polygon fill=\"#add8e6\" stroke=\"#000000\" points=\"329.5,-1615 180.5,-1615 180.5,-1581 329.5,-1581 329.5,-1615\"/>\n",
       "<text text-anchor=\"middle\" x=\"255\" y=\"-1601.4\" font-family=\"Times,serif\" font-size=\"12.00\" fill=\"#000000\">flownet_c.conv_redir.0.bias</text>\n",
       "<text text-anchor=\"middle\" x=\"255\" y=\"-1588.4\" font-family=\"Times,serif\" font-size=\"12.00\" fill=\"#000000\"> (32)</text>\n",
       "</g>\n",
       "<!-- 140597391498152&#45;&gt;140594704363416 -->\n",
       "<g id=\"edge40\" class=\"edge\">\n",
       "<title>140597391498152&#45;&gt;140594704363416</title>\n",
       "<path fill=\"none\" stroke=\"#000000\" d=\"M274.2947,-1580.9832C284.4181,-1572.0549 296.8061,-1561.1294 307.0279,-1552.1143\"/>\n",
       "<polygon fill=\"#000000\" stroke=\"#000000\" points=\"309.4916,-1554.6082 314.6765,-1545.3687 304.8615,-1549.3582 309.4916,-1554.6082\"/>\n",
       "</g>\n",
       "<!-- 140594704363192 -->\n",
       "<g id=\"node42\" class=\"node\">\n",
       "<title>140594704363192</title>\n",
       "<polygon fill=\"#d3d3d3\" stroke=\"#000000\" points=\"574,-1488 450,-1488 450,-1467 574,-1467 574,-1488\"/>\n",
       "<text text-anchor=\"middle\" x=\"512\" y=\"-1474.4\" font-family=\"Times,serif\" font-size=\"12.00\" fill=\"#000000\">LeakyReluBackward1</text>\n",
       "</g>\n",
       "<!-- 140594704363192&#45;&gt;140594704362632 -->\n",
       "<g id=\"edge41\" class=\"edge\">\n",
       "<title>140594704363192&#45;&gt;140594704362632</title>\n",
       "<path fill=\"none\" stroke=\"#000000\" d=\"M493.5096,-1466.7281C476.1014,-1456.5866 449.8209,-1441.2764 430.0563,-1429.7622\"/>\n",
       "<polygon fill=\"#000000\" stroke=\"#000000\" points=\"431.6198,-1426.6224 421.2173,-1424.6128 428.0961,-1432.6709 431.6198,-1426.6224\"/>\n",
       "</g>\n",
       "<!-- 140597388095048&#45;&gt;140594704363192 -->\n",
       "<g id=\"edge42\" class=\"edge\">\n",
       "<title>140597388095048&#45;&gt;140594704363192</title>\n",
       "<path fill=\"none\" stroke=\"#000000\" d=\"M543.6644,-1523.7787C538.435,-1516.1357 531.2622,-1505.6524 525.0657,-1496.596\"/>\n",
       "<polygon fill=\"#000000\" stroke=\"#000000\" points=\"527.8382,-1494.4499 519.3027,-1488.1732 522.061,-1498.4027 527.8382,-1494.4499\"/>\n",
       "</g>\n",
       "<!-- 140597395099776 -->\n",
       "<g id=\"node44\" class=\"node\">\n",
       "<title>140597395099776</title>\n",
       "<polygon fill=\"#d3d3d3\" stroke=\"#000000\" points=\"613,-1608.5 489,-1608.5 489,-1587.5 613,-1587.5 613,-1608.5\"/>\n",
       "<text text-anchor=\"middle\" x=\"551\" y=\"-1594.9\" font-family=\"Times,serif\" font-size=\"12.00\" fill=\"#000000\">LeakyReluBackward1</text>\n",
       "</g>\n",
       "<!-- 140597395099776&#45;&gt;140597388095048 -->\n",
       "<g id=\"edge44\" class=\"edge\">\n",
       "<title>140597395099776&#45;&gt;140597388095048</title>\n",
       "<path fill=\"none\" stroke=\"#000000\" d=\"M551,-1587.2281C551,-1578.5091 551,-1565.9699 551,-1555.3068\"/>\n",
       "<polygon fill=\"#000000\" stroke=\"#000000\" points=\"554.5001,-1555.1128 551,-1545.1128 547.5001,-1555.1129 554.5001,-1555.1128\"/>\n",
       "</g>\n",
       "<!-- 140597391498824&#45;&gt;140597395099776 -->\n",
       "<g id=\"edge45\" class=\"edge\">\n",
       "<title>140597391498824&#45;&gt;140597395099776</title>\n",
       "<path fill=\"none\" stroke=\"#000000\" d=\"M564.2858,-1650.7281C562.0658,-1641.9174 558.8628,-1629.2055 556.158,-1618.4708\"/>\n",
       "<polygon fill=\"#000000\" stroke=\"#000000\" points=\"559.5114,-1617.4546 553.6741,-1608.6128 552.7236,-1619.1649 559.5114,-1617.4546\"/>\n",
       "</g>\n",
       "<!-- 140597391497592 -->\n",
       "<g id=\"node46\" class=\"node\">\n",
       "<title>140597391497592</title>\n",
       "<polygon fill=\"#d3d3d3\" stroke=\"#000000\" points=\"762,-1735.5 638,-1735.5 638,-1714.5 762,-1714.5 762,-1735.5\"/>\n",
       "<text text-anchor=\"middle\" x=\"700\" y=\"-1721.9\" font-family=\"Times,serif\" font-size=\"12.00\" fill=\"#000000\">LeakyReluBackward1</text>\n",
       "</g>\n",
       "<!-- 140597391497592&#45;&gt;140597391498824 -->\n",
       "<g id=\"edge46\" class=\"edge\">\n",
       "<title>140597391497592&#45;&gt;140597391498824</title>\n",
       "<path fill=\"none\" stroke=\"#000000\" d=\"M677.7388,-1714.3715C656.0648,-1704.0234 622.9165,-1688.197 598.5333,-1676.5554\"/>\n",
       "<polygon fill=\"#000000\" stroke=\"#000000\" points=\"599.8661,-1673.3133 589.3338,-1672.1631 596.85,-1679.6302 599.8661,-1673.3133\"/>\n",
       "</g>\n",
       "<!-- 140597388335984&#45;&gt;140597391497592 -->\n",
       "<g id=\"edge47\" class=\"edge\">\n",
       "<title>140597388335984&#45;&gt;140597391497592</title>\n",
       "<path fill=\"none\" stroke=\"#000000\" d=\"M639.3835,-1777.7281C650.5674,-1767.9996 667.2192,-1753.5148 680.2415,-1742.1872\"/>\n",
       "<polygon fill=\"#000000\" stroke=\"#000000\" points=\"682.5515,-1744.8167 687.7994,-1735.6128 677.9574,-1739.5352 682.5515,-1744.8167\"/>\n",
       "</g>\n",
       "<!-- 140597388336600 -->\n",
       "<g id=\"node48\" class=\"node\">\n",
       "<title>140597388336600</title>\n",
       "<polygon fill=\"#d3d3d3\" stroke=\"#000000\" points=\"790,-1862.5 666,-1862.5 666,-1841.5 790,-1841.5 790,-1862.5\"/>\n",
       "<text text-anchor=\"middle\" x=\"728\" y=\"-1848.9\" font-family=\"Times,serif\" font-size=\"12.00\" fill=\"#000000\">LeakyReluBackward1</text>\n",
       "</g>\n",
       "<!-- 140597388336600&#45;&gt;140597388335984 -->\n",
       "<g id=\"edge48\" class=\"edge\">\n",
       "<title>140597388336600&#45;&gt;140597388335984</title>\n",
       "<path fill=\"none\" stroke=\"#000000\" d=\"M710.8667,-1841.2281C694.8821,-1831.1784 670.8246,-1816.0531 652.5692,-1804.5757\"/>\n",
       "<polygon fill=\"#000000\" stroke=\"#000000\" points=\"654.209,-1801.4724 643.8802,-1799.1128 650.4832,-1807.3985 654.209,-1801.4724\"/>\n",
       "</g>\n",
       "<!-- 140597388335144&#45;&gt;140597388336600 -->\n",
       "<g id=\"edge49\" class=\"edge\">\n",
       "<title>140597388335144&#45;&gt;140597388336600</title>\n",
       "<path fill=\"none\" stroke=\"#000000\" d=\"M614.7633,-1904.8715C637.0243,-1894.4776 671.1224,-1878.5568 696.0859,-1866.9011\"/>\n",
       "<polygon fill=\"#000000\" stroke=\"#000000\" points=\"697.5822,-1870.0652 705.1624,-1862.6631 694.6206,-1863.7225 697.5822,-1870.0652\"/>\n",
       "</g>\n",
       "<!-- 140597394021184 -->\n",
       "<g id=\"node50\" class=\"node\">\n",
       "<title>140597394021184</title>\n",
       "<polygon fill=\"#ffa500\" stroke=\"#000000\" points=\"721,-1608.5 631,-1608.5 631,-1587.5 721,-1587.5 721,-1608.5\"/>\n",
       "<text text-anchor=\"middle\" x=\"676\" y=\"-1594.9\" font-family=\"Times,serif\" font-size=\"12.00\" fill=\"#000000\">(1, 256, 64, 54)</text>\n",
       "</g>\n",
       "<!-- 140597394021184&#45;&gt;140597388095048 -->\n",
       "<g id=\"edge56\" class=\"edge\">\n",
       "<title>140597394021184&#45;&gt;140597388095048</title>\n",
       "<path fill=\"none\" stroke=\"#000000\" d=\"M655.0778,-1587.3715C634.7977,-1577.0692 603.8286,-1561.3369 580.9412,-1549.7101\"/>\n",
       "<polygon fill=\"#000000\" stroke=\"#000000\" points=\"582.4912,-1546.5719 571.9904,-1545.1631 579.3208,-1552.8128 582.4912,-1546.5719\"/>\n",
       "</g>\n",
       "<!-- 140597394021256 -->\n",
       "<g id=\"node51\" class=\"node\">\n",
       "<title>140597394021256</title>\n",
       "<polygon fill=\"#ffa500\" stroke=\"#000000\" points=\"829,-1608.5 739,-1608.5 739,-1587.5 829,-1587.5 829,-1608.5\"/>\n",
       "<text text-anchor=\"middle\" x=\"784\" y=\"-1594.9\" font-family=\"Times,serif\" font-size=\"12.00\" fill=\"#000000\">(1, 256, 64, 54)</text>\n",
       "</g>\n",
       "<!-- 140597394021256&#45;&gt;140597388095048 -->\n",
       "<g id=\"edge57\" class=\"edge\">\n",
       "<title>140597394021256&#45;&gt;140597388095048</title>\n",
       "<path fill=\"none\" stroke=\"#000000\" d=\"M751.5278,-1587.4834C744.4521,-1585.2742 736.9908,-1583.007 730,-1581 687.8275,-1568.8925 639.6738,-1556.4612 603.9411,-1547.5017\"/>\n",
       "<polygon fill=\"#000000\" stroke=\"#000000\" points=\"604.7575,-1544.0981 594.2074,-1545.0699 603.0608,-1550.8894 604.7575,-1544.0981\"/>\n",
       "</g>\n",
       "<!-- 140594704362744 -->\n",
       "<g id=\"node52\" class=\"node\">\n",
       "<title>140594704362744</title>\n",
       "<polygon fill=\"#add8e6\" stroke=\"#000000\" points=\"614,-1431 462,-1431 462,-1397 614,-1397 614,-1431\"/>\n",
       "<text text-anchor=\"middle\" x=\"538\" y=\"-1417.4\" font-family=\"Times,serif\" font-size=\"12.00\" fill=\"#000000\">flownet_c.conv3_1.0.weight</text>\n",
       "<text text-anchor=\"middle\" x=\"538\" y=\"-1404.4\" font-family=\"Times,serif\" font-size=\"12.00\" fill=\"#000000\"> (256, 473, 3, 3)</text>\n",
       "</g>\n",
       "<!-- 140594704362744&#45;&gt;140594704362408 -->\n",
       "<g id=\"edge58\" class=\"edge\">\n",
       "<title>140594704362744&#45;&gt;140594704362408</title>\n",
       "<path fill=\"none\" stroke=\"#000000\" d=\"M538,-1396.9832C538,-1389.1157 538,-1379.6973 538,-1371.4019\"/>\n",
       "<polygon fill=\"#000000\" stroke=\"#000000\" points=\"541.5001,-1371.3686 538,-1361.3687 534.5001,-1371.3687 541.5001,-1371.3686\"/>\n",
       "</g>\n",
       "<!-- 140594704362856 -->\n",
       "<g id=\"node53\" class=\"node\">\n",
       "<title>140594704362856</title>\n",
       "<polygon fill=\"#add8e6\" stroke=\"#000000\" points=\"771.5,-1431 632.5,-1431 632.5,-1397 771.5,-1397 771.5,-1431\"/>\n",
       "<text text-anchor=\"middle\" x=\"702\" y=\"-1417.4\" font-family=\"Times,serif\" font-size=\"12.00\" fill=\"#000000\">flownet_c.conv3_1.0.bias</text>\n",
       "<text text-anchor=\"middle\" x=\"702\" y=\"-1404.4\" font-family=\"Times,serif\" font-size=\"12.00\" fill=\"#000000\"> (256)</text>\n",
       "</g>\n",
       "<!-- 140594704362856&#45;&gt;140594704362408 -->\n",
       "<g id=\"edge59\" class=\"edge\">\n",
       "<title>140594704362856&#45;&gt;140594704362408</title>\n",
       "<path fill=\"none\" stroke=\"#000000\" d=\"M658.051,-1396.9832C632.0849,-1386.9292 599.578,-1374.3427 574.9413,-1364.8035\"/>\n",
       "<polygon fill=\"#000000\" stroke=\"#000000\" points=\"576.1691,-1361.5257 565.5799,-1361.1788 573.6415,-1368.0535 576.1691,-1361.5257\"/>\n",
       "</g>\n",
       "<!-- 140594704362072 -->\n",
       "<g id=\"node54\" class=\"node\">\n",
       "<title>140594704362072</title>\n",
       "<polygon fill=\"#add8e6\" stroke=\"#000000\" points=\"758,-1304 618,-1304 618,-1270 758,-1270 758,-1304\"/>\n",
       "<text text-anchor=\"middle\" x=\"688\" y=\"-1290.4\" font-family=\"Times,serif\" font-size=\"12.00\" fill=\"#000000\">flownet_c.conv4.0.weight</text>\n",
       "<text text-anchor=\"middle\" x=\"688\" y=\"-1277.4\" font-family=\"Times,serif\" font-size=\"12.00\" fill=\"#000000\"> (512, 256, 3, 3)</text>\n",
       "</g>\n",
       "<!-- 140594704362072&#45;&gt;140594704361736 -->\n",
       "<g id=\"edge60\" class=\"edge\">\n",
       "<title>140594704362072&#45;&gt;140594704361736</title>\n",
       "<path fill=\"none\" stroke=\"#000000\" d=\"M688,-1269.9832C688,-1262.1157 688,-1252.6973 688,-1244.4019\"/>\n",
       "<polygon fill=\"#000000\" stroke=\"#000000\" points=\"691.5001,-1244.3686 688,-1234.3687 684.5001,-1244.3687 691.5001,-1244.3686\"/>\n",
       "</g>\n",
       "<!-- 140594704362184 -->\n",
       "<g id=\"node55\" class=\"node\">\n",
       "<title>140594704362184</title>\n",
       "<polygon fill=\"#add8e6\" stroke=\"#000000\" points=\"903.5,-1304 776.5,-1304 776.5,-1270 903.5,-1270 903.5,-1304\"/>\n",
       "<text text-anchor=\"middle\" x=\"840\" y=\"-1290.4\" font-family=\"Times,serif\" font-size=\"12.00\" fill=\"#000000\">flownet_c.conv4.0.bias</text>\n",
       "<text text-anchor=\"middle\" x=\"840\" y=\"-1277.4\" font-family=\"Times,serif\" font-size=\"12.00\" fill=\"#000000\"> (512)</text>\n",
       "</g>\n",
       "<!-- 140594704362184&#45;&gt;140594704361736 -->\n",
       "<g id=\"edge61\" class=\"edge\">\n",
       "<title>140594704362184&#45;&gt;140594704361736</title>\n",
       "<path fill=\"none\" stroke=\"#000000\" d=\"M799.2668,-1269.9832C775.4136,-1260.0182 745.6051,-1247.5653 722.8462,-1238.0574\"/>\n",
       "<polygon fill=\"#000000\" stroke=\"#000000\" points=\"724.1383,-1234.8041 713.5619,-1234.1788 721.4399,-1241.2632 724.1383,-1234.8041\"/>\n",
       "</g>\n",
       "<!-- 140594704361400 -->\n",
       "<g id=\"node56\" class=\"node\">\n",
       "<title>140594704361400</title>\n",
       "<polygon fill=\"#add8e6\" stroke=\"#000000\" points=\"920,-1177 768,-1177 768,-1143 920,-1143 920,-1177\"/>\n",
       "<text text-anchor=\"middle\" x=\"844\" y=\"-1163.4\" font-family=\"Times,serif\" font-size=\"12.00\" fill=\"#000000\">flownet_c.conv4_1.0.weight</text>\n",
       "<text text-anchor=\"middle\" x=\"844\" y=\"-1150.4\" font-family=\"Times,serif\" font-size=\"12.00\" fill=\"#000000\"> (512, 512, 3, 3)</text>\n",
       "</g>\n",
       "<!-- 140594704361400&#45;&gt;140594704361064 -->\n",
       "<g id=\"edge62\" class=\"edge\">\n",
       "<title>140594704361400&#45;&gt;140594704361064</title>\n",
       "<path fill=\"none\" stroke=\"#000000\" d=\"M844,-1142.9832C844,-1135.1157 844,-1125.6973 844,-1117.4019\"/>\n",
       "<polygon fill=\"#000000\" stroke=\"#000000\" points=\"847.5001,-1117.3686 844,-1107.3687 840.5001,-1117.3687 847.5001,-1117.3686\"/>\n",
       "</g>\n",
       "<!-- 140594704361512 -->\n",
       "<g id=\"node57\" class=\"node\">\n",
       "<title>140594704361512</title>\n",
       "<polygon fill=\"#add8e6\" stroke=\"#000000\" points=\"1077.5,-1177 938.5,-1177 938.5,-1143 1077.5,-1143 1077.5,-1177\"/>\n",
       "<text text-anchor=\"middle\" x=\"1008\" y=\"-1163.4\" font-family=\"Times,serif\" font-size=\"12.00\" fill=\"#000000\">flownet_c.conv4_1.0.bias</text>\n",
       "<text text-anchor=\"middle\" x=\"1008\" y=\"-1150.4\" font-family=\"Times,serif\" font-size=\"12.00\" fill=\"#000000\"> (512)</text>\n",
       "</g>\n",
       "<!-- 140594704361512&#45;&gt;140594704361064 -->\n",
       "<g id=\"edge63\" class=\"edge\">\n",
       "<title>140594704361512&#45;&gt;140594704361064</title>\n",
       "<path fill=\"none\" stroke=\"#000000\" d=\"M964.051,-1142.9832C938.0849,-1132.9292 905.578,-1120.3427 880.9413,-1110.8035\"/>\n",
       "<polygon fill=\"#000000\" stroke=\"#000000\" points=\"882.1691,-1107.5257 871.5799,-1107.1788 879.6415,-1114.0535 882.1691,-1107.5257\"/>\n",
       "</g>\n",
       "<!-- 140594704360728 -->\n",
       "<g id=\"node58\" class=\"node\">\n",
       "<title>140594704360728</title>\n",
       "<polygon fill=\"#add8e6\" stroke=\"#000000\" points=\"1064,-1050 924,-1050 924,-1016 1064,-1016 1064,-1050\"/>\n",
       "<text text-anchor=\"middle\" x=\"994\" y=\"-1036.4\" font-family=\"Times,serif\" font-size=\"12.00\" fill=\"#000000\">flownet_c.conv5.0.weight</text>\n",
       "<text text-anchor=\"middle\" x=\"994\" y=\"-1023.4\" font-family=\"Times,serif\" font-size=\"12.00\" fill=\"#000000\"> (512, 512, 3, 3)</text>\n",
       "</g>\n",
       "<!-- 140594704360728&#45;&gt;140594704360392 -->\n",
       "<g id=\"edge64\" class=\"edge\">\n",
       "<title>140594704360728&#45;&gt;140594704360392</title>\n",
       "<path fill=\"none\" stroke=\"#000000\" d=\"M994,-1015.9832C994,-1008.1157 994,-998.6973 994,-990.4019\"/>\n",
       "<polygon fill=\"#000000\" stroke=\"#000000\" points=\"997.5001,-990.3686 994,-980.3687 990.5001,-990.3687 997.5001,-990.3686\"/>\n",
       "</g>\n",
       "<!-- 140594704360840 -->\n",
       "<g id=\"node59\" class=\"node\">\n",
       "<title>140594704360840</title>\n",
       "<polygon fill=\"#add8e6\" stroke=\"#000000\" points=\"1209.5,-1050 1082.5,-1050 1082.5,-1016 1209.5,-1016 1209.5,-1050\"/>\n",
       "<text text-anchor=\"middle\" x=\"1146\" y=\"-1036.4\" font-family=\"Times,serif\" font-size=\"12.00\" fill=\"#000000\">flownet_c.conv5.0.bias</text>\n",
       "<text text-anchor=\"middle\" x=\"1146\" y=\"-1023.4\" font-family=\"Times,serif\" font-size=\"12.00\" fill=\"#000000\"> (512)</text>\n",
       "</g>\n",
       "<!-- 140594704360840&#45;&gt;140594704360392 -->\n",
       "<g id=\"edge65\" class=\"edge\">\n",
       "<title>140594704360840&#45;&gt;140594704360392</title>\n",
       "<path fill=\"none\" stroke=\"#000000\" d=\"M1105.2668,-1015.9832C1081.4136,-1006.0182 1051.6051,-993.5653 1028.8462,-984.0574\"/>\n",
       "<polygon fill=\"#000000\" stroke=\"#000000\" points=\"1030.1383,-980.8041 1019.5619,-980.1788 1027.4399,-987.2632 1030.1383,-980.8041\"/>\n",
       "</g>\n",
       "<!-- 140594704360056 -->\n",
       "<g id=\"node60\" class=\"node\">\n",
       "<title>140594704360056</title>\n",
       "<polygon fill=\"#add8e6\" stroke=\"#000000\" points=\"1226,-923 1074,-923 1074,-889 1226,-889 1226,-923\"/>\n",
       "<text text-anchor=\"middle\" x=\"1150\" y=\"-909.4\" font-family=\"Times,serif\" font-size=\"12.00\" fill=\"#000000\">flownet_c.conv5_1.0.weight</text>\n",
       "<text text-anchor=\"middle\" x=\"1150\" y=\"-896.4\" font-family=\"Times,serif\" font-size=\"12.00\" fill=\"#000000\"> (512, 512, 3, 3)</text>\n",
       "</g>\n",
       "<!-- 140594704360056&#45;&gt;140597393884664 -->\n",
       "<g id=\"edge66\" class=\"edge\">\n",
       "<title>140594704360056&#45;&gt;140597393884664</title>\n",
       "<path fill=\"none\" stroke=\"#000000\" d=\"M1150,-888.9832C1150,-881.1157 1150,-871.6973 1150,-863.4019\"/>\n",
       "<polygon fill=\"#000000\" stroke=\"#000000\" points=\"1153.5001,-863.3686 1150,-853.3687 1146.5001,-863.3687 1153.5001,-863.3686\"/>\n",
       "</g>\n",
       "<!-- 140594704360168 -->\n",
       "<g id=\"node61\" class=\"node\">\n",
       "<title>140594704360168</title>\n",
       "<polygon fill=\"#add8e6\" stroke=\"#000000\" points=\"1383.5,-923 1244.5,-923 1244.5,-889 1383.5,-889 1383.5,-923\"/>\n",
       "<text text-anchor=\"middle\" x=\"1314\" y=\"-909.4\" font-family=\"Times,serif\" font-size=\"12.00\" fill=\"#000000\">flownet_c.conv5_1.0.bias</text>\n",
       "<text text-anchor=\"middle\" x=\"1314\" y=\"-896.4\" font-family=\"Times,serif\" font-size=\"12.00\" fill=\"#000000\"> (512)</text>\n",
       "</g>\n",
       "<!-- 140594704360168&#45;&gt;140597393884664 -->\n",
       "<g id=\"edge67\" class=\"edge\">\n",
       "<title>140594704360168&#45;&gt;140597393884664</title>\n",
       "<path fill=\"none\" stroke=\"#000000\" d=\"M1270.051,-888.9832C1244.0849,-878.9292 1211.578,-866.3427 1186.9413,-856.8035\"/>\n",
       "<polygon fill=\"#000000\" stroke=\"#000000\" points=\"1188.1691,-853.5257 1177.5799,-853.1788 1185.6415,-860.0535 1188.1691,-853.5257\"/>\n",
       "</g>\n",
       "<!-- 140594704383672 -->\n",
       "<g id=\"node62\" class=\"node\">\n",
       "<title>140594704383672</title>\n",
       "<polygon fill=\"#add8e6\" stroke=\"#000000\" points=\"1370,-796 1230,-796 1230,-762 1370,-762 1370,-796\"/>\n",
       "<text text-anchor=\"middle\" x=\"1300\" y=\"-782.4\" font-family=\"Times,serif\" font-size=\"12.00\" fill=\"#000000\">flownet_c.conv6.0.weight</text>\n",
       "<text text-anchor=\"middle\" x=\"1300\" y=\"-769.4\" font-family=\"Times,serif\" font-size=\"12.00\" fill=\"#000000\"> (1024, 512, 3, 3)</text>\n",
       "</g>\n",
       "<!-- 140594704383672&#45;&gt;140594704383336 -->\n",
       "<g id=\"edge68\" class=\"edge\">\n",
       "<title>140594704383672&#45;&gt;140594704383336</title>\n",
       "<path fill=\"none\" stroke=\"#000000\" d=\"M1300,-761.9832C1300,-754.1157 1300,-744.6973 1300,-736.4019\"/>\n",
       "<polygon fill=\"#000000\" stroke=\"#000000\" points=\"1303.5001,-736.3686 1300,-726.3687 1296.5001,-736.3687 1303.5001,-736.3686\"/>\n",
       "</g>\n",
       "<!-- 140594704383784 -->\n",
       "<g id=\"node63\" class=\"node\">\n",
       "<title>140594704383784</title>\n",
       "<polygon fill=\"#add8e6\" stroke=\"#000000\" points=\"1515.5,-796 1388.5,-796 1388.5,-762 1515.5,-762 1515.5,-796\"/>\n",
       "<text text-anchor=\"middle\" x=\"1452\" y=\"-782.4\" font-family=\"Times,serif\" font-size=\"12.00\" fill=\"#000000\">flownet_c.conv6.0.bias</text>\n",
       "<text text-anchor=\"middle\" x=\"1452\" y=\"-769.4\" font-family=\"Times,serif\" font-size=\"12.00\" fill=\"#000000\"> (1024)</text>\n",
       "</g>\n",
       "<!-- 140594704383784&#45;&gt;140594704383336 -->\n",
       "<g id=\"edge69\" class=\"edge\">\n",
       "<title>140594704383784&#45;&gt;140594704383336</title>\n",
       "<path fill=\"none\" stroke=\"#000000\" d=\"M1411.2668,-761.9832C1387.4136,-752.0182 1357.6051,-739.5653 1334.8462,-730.0574\"/>\n",
       "<polygon fill=\"#000000\" stroke=\"#000000\" points=\"1336.1383,-726.8041 1325.5619,-726.1788 1333.4399,-733.2632 1336.1383,-726.8041\"/>\n",
       "</g>\n",
       "<!-- 140594704383000 -->\n",
       "<g id=\"node64\" class=\"node\">\n",
       "<title>140594704383000</title>\n",
       "<polygon fill=\"#add8e6\" stroke=\"#000000\" points=\"1532,-669 1380,-669 1380,-635 1532,-635 1532,-669\"/>\n",
       "<text text-anchor=\"middle\" x=\"1456\" y=\"-655.4\" font-family=\"Times,serif\" font-size=\"12.00\" fill=\"#000000\">flownet_c.conv6_1.0.weight</text>\n",
       "<text text-anchor=\"middle\" x=\"1456\" y=\"-642.4\" font-family=\"Times,serif\" font-size=\"12.00\" fill=\"#000000\"> (1024, 1024, 3, 3)</text>\n",
       "</g>\n",
       "<!-- 140594704383000&#45;&gt;140594704382664 -->\n",
       "<g id=\"edge70\" class=\"edge\">\n",
       "<title>140594704383000&#45;&gt;140594704382664</title>\n",
       "<path fill=\"none\" stroke=\"#000000\" d=\"M1456,-634.6966C1456,-625.0634 1456,-613.003 1456,-602.8518\"/>\n",
       "<polygon fill=\"#000000\" stroke=\"#000000\" points=\"1459.5001,-602.7912 1456,-592.7913 1452.5001,-602.7913 1459.5001,-602.7912\"/>\n",
       "</g>\n",
       "<!-- 140594704383112 -->\n",
       "<g id=\"node65\" class=\"node\">\n",
       "<title>140594704383112</title>\n",
       "<polygon fill=\"#add8e6\" stroke=\"#000000\" points=\"1689.5,-669 1550.5,-669 1550.5,-635 1689.5,-635 1689.5,-669\"/>\n",
       "<text text-anchor=\"middle\" x=\"1620\" y=\"-655.4\" font-family=\"Times,serif\" font-size=\"12.00\" fill=\"#000000\">flownet_c.conv6_1.0.bias</text>\n",
       "<text text-anchor=\"middle\" x=\"1620\" y=\"-642.4\" font-family=\"Times,serif\" font-size=\"12.00\" fill=\"#000000\"> (1024)</text>\n",
       "</g>\n",
       "<!-- 140594704383112&#45;&gt;140594704382664 -->\n",
       "<g id=\"edge71\" class=\"edge\">\n",
       "<title>140594704383112&#45;&gt;140594704382664</title>\n",
       "<path fill=\"none\" stroke=\"#000000\" d=\"M1579.8811,-634.8761C1552.4691,-623.1758 1516.5216,-607.8324 1490.4146,-596.6892\"/>\n",
       "<polygon fill=\"#000000\" stroke=\"#000000\" points=\"1491.5002,-593.3471 1480.929,-592.6404 1488.7522,-599.7852 1491.5002,-593.3471\"/>\n",
       "</g>\n",
       "<!-- 140594704382216 -->\n",
       "<g id=\"node66\" class=\"node\">\n",
       "<title>140594704382216</title>\n",
       "<polygon fill=\"#d3d3d3\" stroke=\"#000000\" points=\"1950,-472 1858,-472 1858,-451 1950,-451 1950,-472\"/>\n",
       "<text text-anchor=\"middle\" x=\"1904\" y=\"-458.4\" font-family=\"Times,serif\" font-size=\"12.00\" fill=\"#000000\">ViewBackward</text>\n",
       "</g>\n",
       "<!-- 140594704382216&#45;&gt;140594704380536 -->\n",
       "<g id=\"edge72\" class=\"edge\">\n",
       "<title>140594704382216&#45;&gt;140594704380536</title>\n",
       "<path fill=\"none\" stroke=\"#000000\" d=\"M1875.8806,-450.8715C1847.8129,-440.2626 1804.5116,-423.8958 1773.5243,-412.1833\"/>\n",
       "<polygon fill=\"#000000\" stroke=\"#000000\" points=\"1774.5227,-408.819 1763.9311,-408.5573 1772.0477,-415.3669 1774.5227,-408.819\"/>\n",
       "</g>\n",
       "<!-- 140597396217472 -->\n",
       "<g id=\"node67\" class=\"node\">\n",
       "<title>140597396217472</title>\n",
       "<polygon fill=\"#d3d3d3\" stroke=\"#000000\" points=\"2076,-529 1958,-529 1958,-508 2076,-508 2076,-529\"/>\n",
       "<text text-anchor=\"middle\" x=\"2017\" y=\"-515.4\" font-family=\"Times,serif\" font-size=\"12.00\" fill=\"#000000\">CudnnRnnBackward</text>\n",
       "</g>\n",
       "<!-- 140597396217472&#45;&gt;140594704382216 -->\n",
       "<g id=\"edge73\" class=\"edge\">\n",
       "<title>140597396217472&#45;&gt;140594704382216</title>\n",
       "<path fill=\"none\" stroke=\"#000000\" d=\"M1996.0104,-507.9123C1978.568,-499.114 1953.5325,-486.4854 1933.9787,-476.622\"/>\n",
       "<polygon fill=\"#000000\" stroke=\"#000000\" points=\"1935.3819,-473.4098 1924.8772,-472.031 1932.2293,-479.6597 1935.3819,-473.4098\"/>\n",
       "</g>\n",
       "<!-- 140594704382552 -->\n",
       "<g id=\"node68\" class=\"node\">\n",
       "<title>140594704382552</title>\n",
       "<polygon fill=\"#add8e6\" stroke=\"#000000\" points=\"2338.5,-599 2217.5,-599 2217.5,-565 2338.5,-565 2338.5,-599\"/>\n",
       "<text text-anchor=\"middle\" x=\"2278\" y=\"-585.4\" font-family=\"Times,serif\" font-size=\"12.00\" fill=\"#000000\">rnnIMU.weight_ih_l0</text>\n",
       "<text text-anchor=\"middle\" x=\"2278\" y=\"-572.4\" font-family=\"Times,serif\" font-size=\"12.00\" fill=\"#000000\"> (24, 11)</text>\n",
       "</g>\n",
       "<!-- 140594704382552&#45;&gt;140597396217472 -->\n",
       "<g id=\"edge74\" class=\"edge\">\n",
       "<title>140594704382552&#45;&gt;140597396217472</title>\n",
       "<path fill=\"none\" stroke=\"#000000\" d=\"M2217.4653,-567.2722C2172.9925,-556.4522 2113.1283,-541.8875 2070.4247,-531.498\"/>\n",
       "<polygon fill=\"#000000\" stroke=\"#000000\" points=\"2071.0459,-528.0471 2060.5019,-529.0838 2069.391,-534.8487 2071.0459,-528.0471\"/>\n",
       "</g>\n",
       "<!-- 140594704382776 -->\n",
       "<g id=\"node69\" class=\"node\">\n",
       "<title>140594704382776</title>\n",
       "<polygon fill=\"#add8e6\" stroke=\"#000000\" points=\"2481,-599 2357,-599 2357,-565 2481,-565 2481,-599\"/>\n",
       "<text text-anchor=\"middle\" x=\"2419\" y=\"-585.4\" font-family=\"Times,serif\" font-size=\"12.00\" fill=\"#000000\">rnnIMU.weight_hh_l0</text>\n",
       "<text text-anchor=\"middle\" x=\"2419\" y=\"-572.4\" font-family=\"Times,serif\" font-size=\"12.00\" fill=\"#000000\"> (24, 6)</text>\n",
       "</g>\n",
       "<!-- 140594704382776&#45;&gt;140597396217472 -->\n",
       "<g id=\"edge75\" class=\"edge\">\n",
       "<title>140594704382776&#45;&gt;140597396217472</title>\n",
       "<path fill=\"none\" stroke=\"#000000\" d=\"M2356.7344,-566.736C2353.7869,-566.1253 2350.8642,-565.5428 2348,-565 2258.1124,-547.9652 2153.4013,-534.2761 2086.2162,-526.2726\"/>\n",
       "<polygon fill=\"#000000\" stroke=\"#000000\" points=\"2086.515,-522.7836 2076.1732,-525.0853 2085.6931,-529.7352 2086.515,-522.7836\"/>\n",
       "</g>\n",
       "<!-- 140594704383224 -->\n",
       "<g id=\"node70\" class=\"node\">\n",
       "<title>140594704383224</title>\n",
       "<polygon fill=\"#add8e6\" stroke=\"#000000\" points=\"2606.5,-599 2499.5,-599 2499.5,-565 2606.5,-565 2606.5,-599\"/>\n",
       "<text text-anchor=\"middle\" x=\"2553\" y=\"-585.4\" font-family=\"Times,serif\" font-size=\"12.00\" fill=\"#000000\">rnnIMU.bias_ih_l0</text>\n",
       "<text text-anchor=\"middle\" x=\"2553\" y=\"-572.4\" font-family=\"Times,serif\" font-size=\"12.00\" fill=\"#000000\"> (24)</text>\n",
       "</g>\n",
       "<!-- 140594704383224&#45;&gt;140597396217472 -->\n",
       "<g id=\"edge76\" class=\"edge\">\n",
       "<title>140594704383224&#45;&gt;140597396217472</title>\n",
       "<path fill=\"none\" stroke=\"#000000\" d=\"M2499.1776,-566.8476C2496.0839,-566.173 2493.0089,-565.55 2490,-565 2347.8054,-539.0105 2178.7253,-526.8157 2086.1422,-521.7063\"/>\n",
       "<polygon fill=\"#000000\" stroke=\"#000000\" points=\"2086.2325,-518.2062 2076.0581,-521.1612 2085.8546,-525.196 2086.2325,-518.2062\"/>\n",
       "</g>\n",
       "<!-- 140594704383448 -->\n",
       "<g id=\"node71\" class=\"node\">\n",
       "<title>140594704383448</title>\n",
       "<polygon fill=\"#add8e6\" stroke=\"#000000\" points=\"1663,-599 1553,-599 1553,-565 1663,-565 1663,-599\"/>\n",
       "<text text-anchor=\"middle\" x=\"1608\" y=\"-585.4\" font-family=\"Times,serif\" font-size=\"12.00\" fill=\"#000000\">rnnIMU.bias_hh_l0</text>\n",
       "<text text-anchor=\"middle\" x=\"1608\" y=\"-572.4\" font-family=\"Times,serif\" font-size=\"12.00\" fill=\"#000000\"> (24)</text>\n",
       "</g>\n",
       "<!-- 140594704383448&#45;&gt;140597396217472 -->\n",
       "<g id=\"edge77\" class=\"edge\">\n",
       "<title>140594704383448&#45;&gt;140597396217472</title>\n",
       "<path fill=\"none\" stroke=\"#000000\" d=\"M1663.0551,-566.9058C1666.0725,-566.2256 1669.0686,-565.5845 1672,-565 1766.7661,-546.1052 1877.7333,-532.6738 1947.699,-525.2518\"/>\n",
       "<polygon fill=\"#000000\" stroke=\"#000000\" points=\"1948.1374,-528.7251 1957.7175,-524.2004 1947.4067,-521.7633 1948.1374,-528.7251\"/>\n",
       "</g>\n",
       "<!-- 140594704359832 -->\n",
       "<g id=\"node72\" class=\"node\">\n",
       "<title>140594704359832</title>\n",
       "<polygon fill=\"#add8e6\" stroke=\"#000000\" points=\"1802.5,-599 1681.5,-599 1681.5,-565 1802.5,-565 1802.5,-599\"/>\n",
       "<text text-anchor=\"middle\" x=\"1742\" y=\"-585.4\" font-family=\"Times,serif\" font-size=\"12.00\" fill=\"#000000\">rnnIMU.weight_ih_l1</text>\n",
       "<text text-anchor=\"middle\" x=\"1742\" y=\"-572.4\" font-family=\"Times,serif\" font-size=\"12.00\" fill=\"#000000\"> (24, 6)</text>\n",
       "</g>\n",
       "<!-- 140594704359832&#45;&gt;140597396217472 -->\n",
       "<g id=\"edge78\" class=\"edge\">\n",
       "<title>140594704359832&#45;&gt;140597396217472</title>\n",
       "<path fill=\"none\" stroke=\"#000000\" d=\"M1802.6929,-567.2006C1805.8395,-566.452 1808.9563,-565.7148 1812,-565 1861.889,-553.2846 1918.7273,-540.4308 1959.8808,-531.2123\"/>\n",
       "<polygon fill=\"#000000\" stroke=\"#000000\" points=\"1960.7335,-534.6081 1969.7278,-529.0088 1959.2049,-527.777 1960.7335,-534.6081\"/>\n",
       "</g>\n",
       "<!-- 140594704360280 -->\n",
       "<g id=\"node73\" class=\"node\">\n",
       "<title>140594704360280</title>\n",
       "<polygon fill=\"#add8e6\" stroke=\"#000000\" points=\"1945,-599 1821,-599 1821,-565 1945,-565 1945,-599\"/>\n",
       "<text text-anchor=\"middle\" x=\"1883\" y=\"-585.4\" font-family=\"Times,serif\" font-size=\"12.00\" fill=\"#000000\">rnnIMU.weight_hh_l1</text>\n",
       "<text text-anchor=\"middle\" x=\"1883\" y=\"-572.4\" font-family=\"Times,serif\" font-size=\"12.00\" fill=\"#000000\"> (24, 6)</text>\n",
       "</g>\n",
       "<!-- 140594704360280&#45;&gt;140597396217472 -->\n",
       "<g id=\"edge79\" class=\"edge\">\n",
       "<title>140594704360280&#45;&gt;140597396217472</title>\n",
       "<path fill=\"none\" stroke=\"#000000\" d=\"M1918.9095,-564.9832C1939.5625,-555.1961 1965.2798,-543.0092 1985.1996,-533.5696\"/>\n",
       "<polygon fill=\"#000000\" stroke=\"#000000\" points=\"1986.9273,-536.624 1994.4652,-529.1788 1983.9296,-530.2983 1986.9273,-536.624\"/>\n",
       "</g>\n",
       "<!-- 140594704360504 -->\n",
       "<g id=\"node74\" class=\"node\">\n",
       "<title>140594704360504</title>\n",
       "<polygon fill=\"#add8e6\" stroke=\"#000000\" points=\"2070.5,-599 1963.5,-599 1963.5,-565 2070.5,-565 2070.5,-599\"/>\n",
       "<text text-anchor=\"middle\" x=\"2017\" y=\"-585.4\" font-family=\"Times,serif\" font-size=\"12.00\" fill=\"#000000\">rnnIMU.bias_ih_l1</text>\n",
       "<text text-anchor=\"middle\" x=\"2017\" y=\"-572.4\" font-family=\"Times,serif\" font-size=\"12.00\" fill=\"#000000\"> (24)</text>\n",
       "</g>\n",
       "<!-- 140594704360504&#45;&gt;140597396217472 -->\n",
       "<g id=\"edge80\" class=\"edge\">\n",
       "<title>140594704360504&#45;&gt;140597396217472</title>\n",
       "<path fill=\"none\" stroke=\"#000000\" d=\"M2017,-564.9832C2017,-557.1157 2017,-547.6973 2017,-539.4019\"/>\n",
       "<polygon fill=\"#000000\" stroke=\"#000000\" points=\"2020.5001,-539.3686 2017,-529.3687 2013.5001,-539.3687 2020.5001,-539.3686\"/>\n",
       "</g>\n",
       "<!-- 140594704360952 -->\n",
       "<g id=\"node75\" class=\"node\">\n",
       "<title>140594704360952</title>\n",
       "<polygon fill=\"#add8e6\" stroke=\"#000000\" points=\"2199,-599 2089,-599 2089,-565 2199,-565 2199,-599\"/>\n",
       "<text text-anchor=\"middle\" x=\"2144\" y=\"-585.4\" font-family=\"Times,serif\" font-size=\"12.00\" fill=\"#000000\">rnnIMU.bias_hh_l1</text>\n",
       "<text text-anchor=\"middle\" x=\"2144\" y=\"-572.4\" font-family=\"Times,serif\" font-size=\"12.00\" fill=\"#000000\"> (24)</text>\n",
       "</g>\n",
       "<!-- 140594704360952&#45;&gt;140597396217472 -->\n",
       "<g id=\"edge81\" class=\"edge\">\n",
       "<title>140594704360952&#45;&gt;140597396217472</title>\n",
       "<path fill=\"none\" stroke=\"#000000\" d=\"M2109.9663,-564.9832C2090.4812,-555.2406 2066.2399,-543.12 2047.3969,-533.6985\"/>\n",
       "<polygon fill=\"#000000\" stroke=\"#000000\" points=\"2048.8672,-530.5205 2038.3576,-529.1788 2045.7367,-536.7815 2048.8672,-530.5205\"/>\n",
       "</g>\n",
       "<!-- 140594704380872 -->\n",
       "<g id=\"node76\" class=\"node\">\n",
       "<title>140594704380872</title>\n",
       "<polygon fill=\"#add8e6\" stroke=\"#000000\" points=\"1893,-415 1795,-415 1795,-381 1893,-381 1893,-415\"/>\n",
       "<text text-anchor=\"middle\" x=\"1844\" y=\"-401.4\" font-family=\"Times,serif\" font-size=\"12.00\" fill=\"#000000\">rnn.weight_ih_l0</text>\n",
       "<text text-anchor=\"middle\" x=\"1844\" y=\"-388.4\" font-family=\"Times,serif\" font-size=\"12.00\" fill=\"#000000\"> (4096, 57464)</text>\n",
       "</g>\n",
       "<!-- 140594704380872&#45;&gt;140594704380312 -->\n",
       "<g id=\"edge82\" class=\"edge\">\n",
       "<title>140594704380872&#45;&gt;140594704380312</title>\n",
       "<path fill=\"none\" stroke=\"#000000\" d=\"M1893.257,-383.1344C1896.2062,-382.3777 1899.1369,-381.6593 1902,-381 1971.4082,-365.0183 2051.8459,-352.0503 2107.723,-343.9092\"/>\n",
       "<polygon fill=\"#000000\" stroke=\"#000000\" points=\"2108.4651,-347.3384 2117.8625,-342.4456 2107.465,-340.4102 2108.4651,-347.3384\"/>\n",
       "</g>\n",
       "<!-- 140594704381208 -->\n",
       "<g id=\"node77\" class=\"node\">\n",
       "<title>140594704381208</title>\n",
       "<polygon fill=\"#add8e6\" stroke=\"#000000\" points=\"2012.5,-415 1911.5,-415 1911.5,-381 2012.5,-381 2012.5,-415\"/>\n",
       "<text text-anchor=\"middle\" x=\"1962\" y=\"-401.4\" font-family=\"Times,serif\" font-size=\"12.00\" fill=\"#000000\">rnn.weight_hh_l0</text>\n",
       "<text text-anchor=\"middle\" x=\"1962\" y=\"-388.4\" font-family=\"Times,serif\" font-size=\"12.00\" fill=\"#000000\"> (4096, 1024)</text>\n",
       "</g>\n",
       "<!-- 140594704381208&#45;&gt;140594704380312 -->\n",
       "<g id=\"edge83\" class=\"edge\">\n",
       "<title>140594704381208&#45;&gt;140594704380312</title>\n",
       "<path fill=\"none\" stroke=\"#000000\" d=\"M2012.6797,-383.0318C2048.7246,-372.386 2096.7298,-358.2077 2131.5397,-347.9267\"/>\n",
       "<polygon fill=\"#000000\" stroke=\"#000000\" points=\"2132.8392,-351.1924 2141.4383,-345.0031 2130.8564,-344.4791 2132.8392,-351.1924\"/>\n",
       "</g>\n",
       "<!-- 140594704381320 -->\n",
       "<g id=\"node78\" class=\"node\">\n",
       "<title>140594704381320</title>\n",
       "<polygon fill=\"#add8e6\" stroke=\"#000000\" points=\"2115,-415 2031,-415 2031,-381 2115,-381 2115,-415\"/>\n",
       "<text text-anchor=\"middle\" x=\"2073\" y=\"-401.4\" font-family=\"Times,serif\" font-size=\"12.00\" fill=\"#000000\">rnn.bias_ih_l0</text>\n",
       "<text text-anchor=\"middle\" x=\"2073\" y=\"-388.4\" font-family=\"Times,serif\" font-size=\"12.00\" fill=\"#000000\"> (4096)</text>\n",
       "</g>\n",
       "<!-- 140594704381320&#45;&gt;140594704380312 -->\n",
       "<g id=\"edge84\" class=\"edge\">\n",
       "<title>140594704381320&#45;&gt;140594704380312</title>\n",
       "<path fill=\"none\" stroke=\"#000000\" d=\"M2100.8701,-380.9832C2116.3164,-371.552 2135.4125,-359.8924 2150.6151,-350.61\"/>\n",
       "<polygon fill=\"#000000\" stroke=\"#000000\" points=\"2152.7993,-353.3772 2159.5103,-345.1788 2149.1515,-347.4028 2152.7993,-353.3772\"/>\n",
       "</g>\n",
       "<!-- 140594704381432 -->\n",
       "<g id=\"node79\" class=\"node\">\n",
       "<title>140594704381432</title>\n",
       "<polygon fill=\"#add8e6\" stroke=\"#000000\" points=\"2220.5,-415 2133.5,-415 2133.5,-381 2220.5,-381 2220.5,-415\"/>\n",
       "<text text-anchor=\"middle\" x=\"2177\" y=\"-401.4\" font-family=\"Times,serif\" font-size=\"12.00\" fill=\"#000000\">rnn.bias_hh_l0</text>\n",
       "<text text-anchor=\"middle\" x=\"2177\" y=\"-388.4\" font-family=\"Times,serif\" font-size=\"12.00\" fill=\"#000000\"> (4096)</text>\n",
       "</g>\n",
       "<!-- 140594704381432&#45;&gt;140594704380312 -->\n",
       "<g id=\"edge85\" class=\"edge\">\n",
       "<title>140594704381432&#45;&gt;140594704380312</title>\n",
       "<path fill=\"none\" stroke=\"#000000\" d=\"M2177,-380.9832C2177,-373.1157 2177,-363.6973 2177,-355.4019\"/>\n",
       "<polygon fill=\"#000000\" stroke=\"#000000\" points=\"2180.5001,-355.3686 2177,-345.3687 2173.5001,-355.3687 2180.5001,-355.3686\"/>\n",
       "</g>\n",
       "<!-- 140594704381544 -->\n",
       "<g id=\"node80\" class=\"node\">\n",
       "<title>140594704381544</title>\n",
       "<polygon fill=\"#add8e6\" stroke=\"#000000\" points=\"2337,-415 2239,-415 2239,-381 2337,-381 2337,-415\"/>\n",
       "<text text-anchor=\"middle\" x=\"2288\" y=\"-401.4\" font-family=\"Times,serif\" font-size=\"12.00\" fill=\"#000000\">rnn.weight_ih_l1</text>\n",
       "<text text-anchor=\"middle\" x=\"2288\" y=\"-388.4\" font-family=\"Times,serif\" font-size=\"12.00\" fill=\"#000000\"> (4096, 1024)</text>\n",
       "</g>\n",
       "<!-- 140594704381544&#45;&gt;140594704380312 -->\n",
       "<g id=\"edge86\" class=\"edge\">\n",
       "<title>140594704381544&#45;&gt;140594704380312</title>\n",
       "<path fill=\"none\" stroke=\"#000000\" d=\"M2258.254,-380.9832C2241.6126,-371.4631 2221.0018,-359.6722 2204.7027,-350.3479\"/>\n",
       "<polygon fill=\"#000000\" stroke=\"#000000\" points=\"2206.0849,-347.1065 2195.6669,-345.1788 2202.609,-353.1825 2206.0849,-347.1065\"/>\n",
       "</g>\n",
       "<!-- 140594704381656 -->\n",
       "<g id=\"node81\" class=\"node\">\n",
       "<title>140594704381656</title>\n",
       "<polygon fill=\"#add8e6\" stroke=\"#000000\" points=\"2456.5,-415 2355.5,-415 2355.5,-381 2456.5,-381 2456.5,-415\"/>\n",
       "<text text-anchor=\"middle\" x=\"2406\" y=\"-401.4\" font-family=\"Times,serif\" font-size=\"12.00\" fill=\"#000000\">rnn.weight_hh_l1</text>\n",
       "<text text-anchor=\"middle\" x=\"2406\" y=\"-388.4\" font-family=\"Times,serif\" font-size=\"12.00\" fill=\"#000000\"> (4096, 1024)</text>\n",
       "</g>\n",
       "<!-- 140594704381656&#45;&gt;140594704380312 -->\n",
       "<g id=\"edge87\" class=\"edge\">\n",
       "<title>140594704381656&#45;&gt;140594704380312</title>\n",
       "<path fill=\"none\" stroke=\"#000000\" d=\"M2355.2686,-383.5969C2352.1329,-382.7157 2349.0241,-381.8444 2346,-381 2305.4935,-369.6891 2259.4682,-357.0386 2225.6883,-347.7913\"/>\n",
       "<polygon fill=\"#000000\" stroke=\"#000000\" points=\"2226.1868,-344.2991 2215.6176,-345.036 2224.3394,-351.051 2226.1868,-344.2991\"/>\n",
       "</g>\n",
       "<!-- 140594704381768 -->\n",
       "<g id=\"node82\" class=\"node\">\n",
       "<title>140594704381768</title>\n",
       "<polygon fill=\"#add8e6\" stroke=\"#000000\" points=\"2559,-415 2475,-415 2475,-381 2559,-381 2559,-415\"/>\n",
       "<text text-anchor=\"middle\" x=\"2517\" y=\"-401.4\" font-family=\"Times,serif\" font-size=\"12.00\" fill=\"#000000\">rnn.bias_ih_l1</text>\n",
       "<text text-anchor=\"middle\" x=\"2517\" y=\"-388.4\" font-family=\"Times,serif\" font-size=\"12.00\" fill=\"#000000\"> (4096)</text>\n",
       "</g>\n",
       "<!-- 140594704381768&#45;&gt;140594704380312 -->\n",
       "<g id=\"edge88\" class=\"edge\">\n",
       "<title>140594704381768&#45;&gt;140594704380312</title>\n",
       "<path fill=\"none\" stroke=\"#000000\" d=\"M2474.8536,-383.3653C2471.8728,-382.5112 2468.9005,-381.7118 2466,-381 2425.5447,-371.0724 2318.3876,-354.7906 2246.5481,-344.364\"/>\n",
       "<polygon fill=\"#000000\" stroke=\"#000000\" points=\"2246.6154,-340.8374 2236.2173,-342.8696 2245.6132,-347.7653 2246.6154,-340.8374\"/>\n",
       "</g>\n",
       "<!-- 140594704381880 -->\n",
       "<g id=\"node83\" class=\"node\">\n",
       "<title>140594704381880</title>\n",
       "<polygon fill=\"#add8e6\" stroke=\"#000000\" points=\"2664.5,-415 2577.5,-415 2577.5,-381 2664.5,-381 2664.5,-415\"/>\n",
       "<text text-anchor=\"middle\" x=\"2621\" y=\"-401.4\" font-family=\"Times,serif\" font-size=\"12.00\" fill=\"#000000\">rnn.bias_hh_l1</text>\n",
       "<text text-anchor=\"middle\" x=\"2621\" y=\"-388.4\" font-family=\"Times,serif\" font-size=\"12.00\" fill=\"#000000\"> (4096)</text>\n",
       "</g>\n",
       "<!-- 140594704381880&#45;&gt;140594704380312 -->\n",
       "<g id=\"edge89\" class=\"edge\">\n",
       "<title>140594704381880&#45;&gt;140594704380312</title>\n",
       "<path fill=\"none\" stroke=\"#000000\" d=\"M2577.2172,-383.2414C2574.1156,-382.4168 2571.0214,-381.6578 2568,-381 2456.9297,-356.8173 2325.1827,-344.4313 2246.4819,-338.72\"/>\n",
       "<polygon fill=\"#000000\" stroke=\"#000000\" points=\"2246.4316,-335.2077 2236.2088,-337.9906 2245.9358,-342.1901 2246.4316,-335.2077\"/>\n",
       "</g>\n",
       "<!-- 140594704357864 -->\n",
       "<g id=\"node84\" class=\"node\">\n",
       "<title>140594704357864</title>\n",
       "<polygon fill=\"#d3d3d3\" stroke=\"#000000\" points=\"2316.5,-154.5 2243.5,-154.5 2243.5,-133.5 2316.5,-133.5 2316.5,-154.5\"/>\n",
       "<text text-anchor=\"middle\" x=\"2280\" y=\"-140.9\" font-family=\"Times,serif\" font-size=\"12.00\" fill=\"#000000\">TBackward</text>\n",
       "</g>\n",
       "<!-- 140594704357864&#45;&gt;140594704356408 -->\n",
       "<g id=\"edge90\" class=\"edge\">\n",
       "<title>140594704357864&#45;&gt;140594704356408</title>\n",
       "<path fill=\"none\" stroke=\"#000000\" d=\"M2268.3054,-133.3685C2256.0232,-122.2029 2236.5155,-104.4686 2222.0152,-91.2866\"/>\n",
       "<polygon fill=\"#000000\" stroke=\"#000000\" points=\"2224.3062,-88.6391 2214.5524,-84.5022 2219.5975,-93.8187 2224.3062,-88.6391\"/>\n",
       "</g>\n",
       "<!-- 140594704379976 -->\n",
       "<g id=\"node85\" class=\"node\">\n",
       "<title>140594704379976</title>\n",
       "<polygon fill=\"#add8e6\" stroke=\"#000000\" points=\"2326,-231 2242,-231 2242,-197 2326,-197 2326,-231\"/>\n",
       "<text text-anchor=\"middle\" x=\"2284\" y=\"-217.4\" font-family=\"Times,serif\" font-size=\"12.00\" fill=\"#000000\">linear1.weight</text>\n",
       "<text text-anchor=\"middle\" x=\"2284\" y=\"-204.4\" font-family=\"Times,serif\" font-size=\"12.00\" fill=\"#000000\"> (128, 1024)</text>\n",
       "</g>\n",
       "<!-- 140594704379976&#45;&gt;140594704357864 -->\n",
       "<g id=\"edge91\" class=\"edge\">\n",
       "<title>140594704379976&#45;&gt;140594704357864</title>\n",
       "<path fill=\"none\" stroke=\"#000000\" d=\"M2283.0112,-196.6966C2282.4608,-187.0634 2281.7716,-175.003 2281.1915,-164.8518\"/>\n",
       "<polygon fill=\"#000000\" stroke=\"#000000\" points=\"2284.6815,-164.5753 2280.6166,-154.7913 2277.6929,-164.9747 2284.6815,-164.5753\"/>\n",
       "</g>\n",
       "<!-- 140594704355848 -->\n",
       "<g id=\"node86\" class=\"node\">\n",
       "<title>140594704355848</title>\n",
       "<polygon fill=\"#d3d3d3\" stroke=\"#000000\" points=\"2390.5,-84.5 2317.5,-84.5 2317.5,-63.5 2390.5,-63.5 2390.5,-84.5\"/>\n",
       "<text text-anchor=\"middle\" x=\"2354\" y=\"-70.9\" font-family=\"Times,serif\" font-size=\"12.00\" fill=\"#000000\">TBackward</text>\n",
       "</g>\n",
       "<!-- 140594704355848&#45;&gt;140594704357192 -->\n",
       "<g id=\"edge92\" class=\"edge\">\n",
       "<title>140594704355848&#45;&gt;140594704357192</title>\n",
       "<path fill=\"none\" stroke=\"#000000\" d=\"M2328.726,-63.3715C2303.717,-52.8545 2265.2518,-36.6787 2237.4531,-24.9886\"/>\n",
       "<polygon fill=\"#000000\" stroke=\"#000000\" points=\"2238.6796,-21.7075 2228.1047,-21.0573 2235.966,-28.1602 2238.6796,-21.7075\"/>\n",
       "</g>\n",
       "<!-- 140594704355624 -->\n",
       "<g id=\"node87\" class=\"node\">\n",
       "<title>140594704355624</title>\n",
       "<polygon fill=\"#add8e6\" stroke=\"#000000\" points=\"2419,-161 2335,-161 2335,-127 2419,-127 2419,-161\"/>\n",
       "<text text-anchor=\"middle\" x=\"2377\" y=\"-147.4\" font-family=\"Times,serif\" font-size=\"12.00\" fill=\"#000000\">linear2.weight</text>\n",
       "<text text-anchor=\"middle\" x=\"2377\" y=\"-134.4\" font-family=\"Times,serif\" font-size=\"12.00\" fill=\"#000000\"> (3, 128)</text>\n",
       "</g>\n",
       "<!-- 140594704355624&#45;&gt;140594704355848 -->\n",
       "<g id=\"edge93\" class=\"edge\">\n",
       "<title>140594704355624&#45;&gt;140594704355848</title>\n",
       "<path fill=\"none\" stroke=\"#000000\" d=\"M2371.3146,-126.6966C2368.1157,-116.9609 2364.1023,-104.7461 2360.7451,-94.5285\"/>\n",
       "<polygon fill=\"#000000\" stroke=\"#000000\" points=\"2363.9924,-93.199 2357.5457,-84.7913 2357.3422,-95.3841 2363.9924,-93.199\"/>\n",
       "</g>\n",
       "</g>\n",
       "</svg>\n"
      ],
      "text/plain": [
       "<graphviz.dot.Digraph at 0x7fdec16917b8>"
      ]
     },
     "execution_count": 114,
     "metadata": {},
     "output_type": "execute_result"
    }
   ],
   "source": [
    "image = X\n",
    "imu   = X2\n",
    "y = model(image, imu)\n",
    "make_dot(y, params = dict(list(model.named_parameters()) + [('x',X)]))"
   ]
  },
  {
   "cell_type": "code",
   "execution_count": null,
   "metadata": {},
   "outputs": [],
   "source": []
  },
  {
   "cell_type": "code",
   "execution_count": 45,
   "metadata": {
    "scrolled": true
   },
   "outputs": [
    {
     "name": "stdout",
     "output_type": "stream",
     "text": [
      "torch.Size([1, 1, 98310])\n"
     ]
    },
    {
     "name": "stderr",
     "output_type": "stream",
     "text": [
      "/pytorch/torch/csrc/autograd/python_function.cpp:622: UserWarning: Legacy autograd function with non-static forward method is deprecated and will be removed in 1.3. Please use new-style autograd function with static forward method. (Example: https://pytorch.org/docs/stable/autograd.html#torch.autograd.Function)\n"
     ]
    },
    {
     "ename": "RuntimeError",
     "evalue": "input.size(-1) must be equal to input_size. Expected 49165, got 98310",
     "output_type": "error",
     "traceback": [
      "\u001b[0;31m---------------------------------------------------------------------------\u001b[0m",
      "\u001b[0;31mRuntimeError\u001b[0m                              Traceback (most recent call last)",
      "\u001b[0;32m<ipython-input-45-11c8a6ec179e>\u001b[0m in \u001b[0;36m<module>\u001b[0;34m\u001b[0m\n\u001b[1;32m      1\u001b[0m \u001b[0mimage\u001b[0m \u001b[0;34m=\u001b[0m \u001b[0mtorch\u001b[0m\u001b[0;34m.\u001b[0m\u001b[0mrandn\u001b[0m\u001b[0;34m(\u001b[0m\u001b[0;36m1\u001b[0m\u001b[0;34m,\u001b[0m \u001b[0;36m2\u001b[0m\u001b[0;34m,\u001b[0m \u001b[0;36m3\u001b[0m\u001b[0;34m,\u001b[0m \u001b[0;36m384\u001b[0m\u001b[0;34m,\u001b[0m \u001b[0;36m1024\u001b[0m\u001b[0;34m)\u001b[0m\u001b[0;34m.\u001b[0m\u001b[0mrequires_grad_\u001b[0m\u001b[0;34m(\u001b[0m\u001b[0;32mTrue\u001b[0m\u001b[0;34m)\u001b[0m\u001b[0;34m.\u001b[0m\u001b[0mcuda\u001b[0m\u001b[0;34m(\u001b[0m\u001b[0;34m)\u001b[0m\u001b[0;34m\u001b[0m\u001b[0;34m\u001b[0m\u001b[0m\n\u001b[1;32m      2\u001b[0m \u001b[0mimu\u001b[0m   \u001b[0;34m=\u001b[0m \u001b[0mtorch\u001b[0m\u001b[0;34m.\u001b[0m\u001b[0mrandn\u001b[0m\u001b[0;34m(\u001b[0m\u001b[0;36m1\u001b[0m\u001b[0;34m,\u001b[0m\u001b[0;36m10\u001b[0m\u001b[0;34m,\u001b[0m\u001b[0;36m6\u001b[0m\u001b[0;34m)\u001b[0m\u001b[0;34m.\u001b[0m\u001b[0mrequires_grad_\u001b[0m\u001b[0;34m(\u001b[0m\u001b[0;32mTrue\u001b[0m\u001b[0;34m)\u001b[0m\u001b[0;34m.\u001b[0m\u001b[0mcuda\u001b[0m\u001b[0;34m(\u001b[0m\u001b[0;34m)\u001b[0m\u001b[0;34m\u001b[0m\u001b[0;34m\u001b[0m\u001b[0m\n\u001b[0;32m----> 3\u001b[0;31m \u001b[0my\u001b[0m \u001b[0;34m=\u001b[0m \u001b[0mmodel\u001b[0m\u001b[0;34m(\u001b[0m\u001b[0mimage\u001b[0m\u001b[0;34m,\u001b[0m \u001b[0mimu\u001b[0m\u001b[0;34m)\u001b[0m\u001b[0;34m\u001b[0m\u001b[0;34m\u001b[0m\u001b[0m\n\u001b[0m\u001b[1;32m      4\u001b[0m \u001b[0mmake_dot\u001b[0m\u001b[0;34m(\u001b[0m\u001b[0my\u001b[0m\u001b[0;34m,\u001b[0m \u001b[0mparams\u001b[0m \u001b[0;34m=\u001b[0m \u001b[0mdict\u001b[0m\u001b[0;34m(\u001b[0m\u001b[0mlist\u001b[0m\u001b[0;34m(\u001b[0m\u001b[0mmodel\u001b[0m\u001b[0;34m.\u001b[0m\u001b[0mnamed_parameters\u001b[0m\u001b[0;34m(\u001b[0m\u001b[0;34m)\u001b[0m\u001b[0;34m)\u001b[0m \u001b[0;34m+\u001b[0m \u001b[0;34m[\u001b[0m\u001b[0;34m(\u001b[0m\u001b[0;34m'x'\u001b[0m\u001b[0;34m,\u001b[0m\u001b[0mx\u001b[0m\u001b[0;34m)\u001b[0m\u001b[0;34m]\u001b[0m\u001b[0;34m)\u001b[0m\u001b[0;34m)\u001b[0m\u001b[0;34m\u001b[0m\u001b[0;34m\u001b[0m\u001b[0m\n",
      "\u001b[0;32m~/anaconda3/envs/fastai/lib/python3.6/site-packages/torch/nn/modules/module.py\u001b[0m in \u001b[0;36m__call__\u001b[0;34m(self, *input, **kwargs)\u001b[0m\n\u001b[1;32m    539\u001b[0m             \u001b[0mresult\u001b[0m \u001b[0;34m=\u001b[0m \u001b[0mself\u001b[0m\u001b[0;34m.\u001b[0m\u001b[0m_slow_forward\u001b[0m\u001b[0;34m(\u001b[0m\u001b[0;34m*\u001b[0m\u001b[0minput\u001b[0m\u001b[0;34m,\u001b[0m \u001b[0;34m**\u001b[0m\u001b[0mkwargs\u001b[0m\u001b[0;34m)\u001b[0m\u001b[0;34m\u001b[0m\u001b[0;34m\u001b[0m\u001b[0m\n\u001b[1;32m    540\u001b[0m         \u001b[0;32melse\u001b[0m\u001b[0;34m:\u001b[0m\u001b[0;34m\u001b[0m\u001b[0;34m\u001b[0m\u001b[0m\n\u001b[0;32m--> 541\u001b[0;31m             \u001b[0mresult\u001b[0m \u001b[0;34m=\u001b[0m \u001b[0mself\u001b[0m\u001b[0;34m.\u001b[0m\u001b[0mforward\u001b[0m\u001b[0;34m(\u001b[0m\u001b[0;34m*\u001b[0m\u001b[0minput\u001b[0m\u001b[0;34m,\u001b[0m \u001b[0;34m**\u001b[0m\u001b[0mkwargs\u001b[0m\u001b[0;34m)\u001b[0m\u001b[0;34m\u001b[0m\u001b[0;34m\u001b[0m\u001b[0m\n\u001b[0m\u001b[1;32m    542\u001b[0m         \u001b[0;32mfor\u001b[0m \u001b[0mhook\u001b[0m \u001b[0;32min\u001b[0m \u001b[0mself\u001b[0m\u001b[0;34m.\u001b[0m\u001b[0m_forward_hooks\u001b[0m\u001b[0;34m.\u001b[0m\u001b[0mvalues\u001b[0m\u001b[0;34m(\u001b[0m\u001b[0;34m)\u001b[0m\u001b[0;34m:\u001b[0m\u001b[0;34m\u001b[0m\u001b[0;34m\u001b[0m\u001b[0m\n\u001b[1;32m    543\u001b[0m             \u001b[0mhook_result\u001b[0m \u001b[0;34m=\u001b[0m \u001b[0mhook\u001b[0m\u001b[0;34m(\u001b[0m\u001b[0mself\u001b[0m\u001b[0;34m,\u001b[0m \u001b[0minput\u001b[0m\u001b[0;34m,\u001b[0m \u001b[0mresult\u001b[0m\u001b[0;34m)\u001b[0m\u001b[0;34m\u001b[0m\u001b[0;34m\u001b[0m\u001b[0m\n",
      "\u001b[0;32m<ipython-input-41-a1b20e0551f4>\u001b[0m in \u001b[0;36mforward\u001b[0;34m(self, image, imu)\u001b[0m\n\u001b[1;32m     67\u001b[0m \u001b[0;31m#         cat_out = torch.cat((cat_out, xyzQ), 2)#1 1 49165\u001b[0m\u001b[0;34m\u001b[0m\u001b[0;34m\u001b[0m\u001b[0;34m\u001b[0m\u001b[0m\n\u001b[1;32m     68\u001b[0m \u001b[0;34m\u001b[0m\u001b[0m\n\u001b[0;32m---> 69\u001b[0;31m         \u001b[0mr_out\u001b[0m\u001b[0;34m,\u001b[0m \u001b[0;34m(\u001b[0m\u001b[0mh_n\u001b[0m\u001b[0;34m,\u001b[0m \u001b[0mh_c\u001b[0m\u001b[0;34m)\u001b[0m \u001b[0;34m=\u001b[0m \u001b[0mself\u001b[0m\u001b[0;34m.\u001b[0m\u001b[0mrnn\u001b[0m\u001b[0;34m(\u001b[0m\u001b[0mcat_out\u001b[0m\u001b[0;34m)\u001b[0m\u001b[0;34m\u001b[0m\u001b[0;34m\u001b[0m\u001b[0m\n\u001b[0m\u001b[1;32m     70\u001b[0m         \u001b[0ml_out1\u001b[0m \u001b[0;34m=\u001b[0m \u001b[0mself\u001b[0m\u001b[0;34m.\u001b[0m\u001b[0mlinear1\u001b[0m\u001b[0;34m(\u001b[0m\u001b[0mr_out\u001b[0m\u001b[0;34m[\u001b[0m\u001b[0;34m:\u001b[0m\u001b[0;34m,\u001b[0m\u001b[0;34m-\u001b[0m\u001b[0;36m1\u001b[0m\u001b[0;34m,\u001b[0m\u001b[0;34m:\u001b[0m\u001b[0;34m]\u001b[0m\u001b[0;34m)\u001b[0m\u001b[0;34m\u001b[0m\u001b[0;34m\u001b[0m\u001b[0m\n\u001b[1;32m     71\u001b[0m         \u001b[0ml_out2\u001b[0m \u001b[0;34m=\u001b[0m \u001b[0mself\u001b[0m\u001b[0;34m.\u001b[0m\u001b[0mlinear2\u001b[0m\u001b[0;34m(\u001b[0m\u001b[0ml_out1\u001b[0m\u001b[0;34m)\u001b[0m\u001b[0;34m\u001b[0m\u001b[0;34m\u001b[0m\u001b[0m\n",
      "\u001b[0;32m~/anaconda3/envs/fastai/lib/python3.6/site-packages/torch/nn/modules/module.py\u001b[0m in \u001b[0;36m__call__\u001b[0;34m(self, *input, **kwargs)\u001b[0m\n\u001b[1;32m    539\u001b[0m             \u001b[0mresult\u001b[0m \u001b[0;34m=\u001b[0m \u001b[0mself\u001b[0m\u001b[0;34m.\u001b[0m\u001b[0m_slow_forward\u001b[0m\u001b[0;34m(\u001b[0m\u001b[0;34m*\u001b[0m\u001b[0minput\u001b[0m\u001b[0;34m,\u001b[0m \u001b[0;34m**\u001b[0m\u001b[0mkwargs\u001b[0m\u001b[0;34m)\u001b[0m\u001b[0;34m\u001b[0m\u001b[0;34m\u001b[0m\u001b[0m\n\u001b[1;32m    540\u001b[0m         \u001b[0;32melse\u001b[0m\u001b[0;34m:\u001b[0m\u001b[0;34m\u001b[0m\u001b[0;34m\u001b[0m\u001b[0m\n\u001b[0;32m--> 541\u001b[0;31m             \u001b[0mresult\u001b[0m \u001b[0;34m=\u001b[0m \u001b[0mself\u001b[0m\u001b[0;34m.\u001b[0m\u001b[0mforward\u001b[0m\u001b[0;34m(\u001b[0m\u001b[0;34m*\u001b[0m\u001b[0minput\u001b[0m\u001b[0;34m,\u001b[0m \u001b[0;34m**\u001b[0m\u001b[0mkwargs\u001b[0m\u001b[0;34m)\u001b[0m\u001b[0;34m\u001b[0m\u001b[0;34m\u001b[0m\u001b[0m\n\u001b[0m\u001b[1;32m    542\u001b[0m         \u001b[0;32mfor\u001b[0m \u001b[0mhook\u001b[0m \u001b[0;32min\u001b[0m \u001b[0mself\u001b[0m\u001b[0;34m.\u001b[0m\u001b[0m_forward_hooks\u001b[0m\u001b[0;34m.\u001b[0m\u001b[0mvalues\u001b[0m\u001b[0;34m(\u001b[0m\u001b[0;34m)\u001b[0m\u001b[0;34m:\u001b[0m\u001b[0;34m\u001b[0m\u001b[0;34m\u001b[0m\u001b[0m\n\u001b[1;32m    543\u001b[0m             \u001b[0mhook_result\u001b[0m \u001b[0;34m=\u001b[0m \u001b[0mhook\u001b[0m\u001b[0;34m(\u001b[0m\u001b[0mself\u001b[0m\u001b[0;34m,\u001b[0m \u001b[0minput\u001b[0m\u001b[0;34m,\u001b[0m \u001b[0mresult\u001b[0m\u001b[0;34m)\u001b[0m\u001b[0;34m\u001b[0m\u001b[0;34m\u001b[0m\u001b[0m\n",
      "\u001b[0;32m~/anaconda3/envs/fastai/lib/python3.6/site-packages/torch/nn/modules/rnn.py\u001b[0m in \u001b[0;36mforward\u001b[0;34m(self, input, hx)\u001b[0m\n\u001b[1;32m    562\u001b[0m             \u001b[0;32mreturn\u001b[0m \u001b[0mself\u001b[0m\u001b[0;34m.\u001b[0m\u001b[0mforward_packed\u001b[0m\u001b[0;34m(\u001b[0m\u001b[0minput\u001b[0m\u001b[0;34m,\u001b[0m \u001b[0mhx\u001b[0m\u001b[0;34m)\u001b[0m\u001b[0;34m\u001b[0m\u001b[0;34m\u001b[0m\u001b[0m\n\u001b[1;32m    563\u001b[0m         \u001b[0;32melse\u001b[0m\u001b[0;34m:\u001b[0m\u001b[0;34m\u001b[0m\u001b[0;34m\u001b[0m\u001b[0m\n\u001b[0;32m--> 564\u001b[0;31m             \u001b[0;32mreturn\u001b[0m \u001b[0mself\u001b[0m\u001b[0;34m.\u001b[0m\u001b[0mforward_tensor\u001b[0m\u001b[0;34m(\u001b[0m\u001b[0minput\u001b[0m\u001b[0;34m,\u001b[0m \u001b[0mhx\u001b[0m\u001b[0;34m)\u001b[0m\u001b[0;34m\u001b[0m\u001b[0;34m\u001b[0m\u001b[0m\n\u001b[0m\u001b[1;32m    565\u001b[0m \u001b[0;34m\u001b[0m\u001b[0m\n\u001b[1;32m    566\u001b[0m \u001b[0;34m\u001b[0m\u001b[0m\n",
      "\u001b[0;32m~/anaconda3/envs/fastai/lib/python3.6/site-packages/torch/nn/modules/rnn.py\u001b[0m in \u001b[0;36mforward_tensor\u001b[0;34m(self, input, hx)\u001b[0m\n\u001b[1;32m    541\u001b[0m         \u001b[0munsorted_indices\u001b[0m \u001b[0;34m=\u001b[0m \u001b[0;32mNone\u001b[0m\u001b[0;34m\u001b[0m\u001b[0;34m\u001b[0m\u001b[0m\n\u001b[1;32m    542\u001b[0m \u001b[0;34m\u001b[0m\u001b[0m\n\u001b[0;32m--> 543\u001b[0;31m         \u001b[0moutput\u001b[0m\u001b[0;34m,\u001b[0m \u001b[0mhidden\u001b[0m \u001b[0;34m=\u001b[0m \u001b[0mself\u001b[0m\u001b[0;34m.\u001b[0m\u001b[0mforward_impl\u001b[0m\u001b[0;34m(\u001b[0m\u001b[0minput\u001b[0m\u001b[0;34m,\u001b[0m \u001b[0mhx\u001b[0m\u001b[0;34m,\u001b[0m \u001b[0mbatch_sizes\u001b[0m\u001b[0;34m,\u001b[0m \u001b[0mmax_batch_size\u001b[0m\u001b[0;34m,\u001b[0m \u001b[0msorted_indices\u001b[0m\u001b[0;34m)\u001b[0m\u001b[0;34m\u001b[0m\u001b[0;34m\u001b[0m\u001b[0m\n\u001b[0m\u001b[1;32m    544\u001b[0m \u001b[0;34m\u001b[0m\u001b[0m\n\u001b[1;32m    545\u001b[0m         \u001b[0;32mreturn\u001b[0m \u001b[0moutput\u001b[0m\u001b[0;34m,\u001b[0m \u001b[0mself\u001b[0m\u001b[0;34m.\u001b[0m\u001b[0mpermute_hidden\u001b[0m\u001b[0;34m(\u001b[0m\u001b[0mhidden\u001b[0m\u001b[0;34m,\u001b[0m \u001b[0munsorted_indices\u001b[0m\u001b[0;34m)\u001b[0m\u001b[0;34m\u001b[0m\u001b[0;34m\u001b[0m\u001b[0m\n",
      "\u001b[0;32m~/anaconda3/envs/fastai/lib/python3.6/site-packages/torch/nn/modules/rnn.py\u001b[0m in \u001b[0;36mforward_impl\u001b[0;34m(self, input, hx, batch_sizes, max_batch_size, sorted_indices)\u001b[0m\n\u001b[1;32m    521\u001b[0m             \u001b[0mhx\u001b[0m \u001b[0;34m=\u001b[0m \u001b[0mself\u001b[0m\u001b[0;34m.\u001b[0m\u001b[0mpermute_hidden\u001b[0m\u001b[0;34m(\u001b[0m\u001b[0mhx\u001b[0m\u001b[0;34m,\u001b[0m \u001b[0msorted_indices\u001b[0m\u001b[0;34m)\u001b[0m\u001b[0;34m\u001b[0m\u001b[0;34m\u001b[0m\u001b[0m\n\u001b[1;32m    522\u001b[0m \u001b[0;34m\u001b[0m\u001b[0m\n\u001b[0;32m--> 523\u001b[0;31m         \u001b[0mself\u001b[0m\u001b[0;34m.\u001b[0m\u001b[0mcheck_forward_args\u001b[0m\u001b[0;34m(\u001b[0m\u001b[0minput\u001b[0m\u001b[0;34m,\u001b[0m \u001b[0mhx\u001b[0m\u001b[0;34m,\u001b[0m \u001b[0mbatch_sizes\u001b[0m\u001b[0;34m)\u001b[0m\u001b[0;34m\u001b[0m\u001b[0;34m\u001b[0m\u001b[0m\n\u001b[0m\u001b[1;32m    524\u001b[0m         \u001b[0;32mif\u001b[0m \u001b[0mbatch_sizes\u001b[0m \u001b[0;32mis\u001b[0m \u001b[0;32mNone\u001b[0m\u001b[0;34m:\u001b[0m\u001b[0;34m\u001b[0m\u001b[0;34m\u001b[0m\u001b[0m\n\u001b[1;32m    525\u001b[0m             result = _VF.lstm(input, hx, self._get_flat_weights(), self.bias, self.num_layers,\n",
      "\u001b[0;32m~/anaconda3/envs/fastai/lib/python3.6/site-packages/torch/nn/modules/rnn.py\u001b[0m in \u001b[0;36mcheck_forward_args\u001b[0;34m(self, input, hidden, batch_sizes)\u001b[0m\n\u001b[1;32m    494\u001b[0m     \u001b[0;32mdef\u001b[0m \u001b[0mcheck_forward_args\u001b[0m\u001b[0;34m(\u001b[0m\u001b[0mself\u001b[0m\u001b[0;34m,\u001b[0m \u001b[0minput\u001b[0m\u001b[0;34m,\u001b[0m \u001b[0mhidden\u001b[0m\u001b[0;34m,\u001b[0m \u001b[0mbatch_sizes\u001b[0m\u001b[0;34m)\u001b[0m\u001b[0;34m:\u001b[0m\u001b[0;34m\u001b[0m\u001b[0;34m\u001b[0m\u001b[0m\n\u001b[1;32m    495\u001b[0m         \u001b[0;31m# type: (Tensor, Tuple[Tensor, Tensor], Optional[Tensor]) -> None\u001b[0m\u001b[0;34m\u001b[0m\u001b[0;34m\u001b[0m\u001b[0;34m\u001b[0m\u001b[0m\n\u001b[0;32m--> 496\u001b[0;31m         \u001b[0mself\u001b[0m\u001b[0;34m.\u001b[0m\u001b[0mcheck_input\u001b[0m\u001b[0;34m(\u001b[0m\u001b[0minput\u001b[0m\u001b[0;34m,\u001b[0m \u001b[0mbatch_sizes\u001b[0m\u001b[0;34m)\u001b[0m\u001b[0;34m\u001b[0m\u001b[0;34m\u001b[0m\u001b[0m\n\u001b[0m\u001b[1;32m    497\u001b[0m         \u001b[0mexpected_hidden_size\u001b[0m \u001b[0;34m=\u001b[0m \u001b[0mself\u001b[0m\u001b[0;34m.\u001b[0m\u001b[0mget_expected_hidden_size\u001b[0m\u001b[0;34m(\u001b[0m\u001b[0minput\u001b[0m\u001b[0;34m,\u001b[0m \u001b[0mbatch_sizes\u001b[0m\u001b[0;34m)\u001b[0m\u001b[0;34m\u001b[0m\u001b[0;34m\u001b[0m\u001b[0m\n\u001b[1;32m    498\u001b[0m \u001b[0;34m\u001b[0m\u001b[0m\n",
      "\u001b[0;32m~/anaconda3/envs/fastai/lib/python3.6/site-packages/torch/nn/modules/rnn.py\u001b[0m in \u001b[0;36mcheck_input\u001b[0;34m(self, input, batch_sizes)\u001b[0m\n\u001b[1;32m    147\u001b[0m             raise RuntimeError(\n\u001b[1;32m    148\u001b[0m                 'input.size(-1) must be equal to input_size. Expected {}, got {}'.format(\n\u001b[0;32m--> 149\u001b[0;31m                     self.input_size, input.size(-1)))\n\u001b[0m\u001b[1;32m    150\u001b[0m \u001b[0;34m\u001b[0m\u001b[0m\n\u001b[1;32m    151\u001b[0m     \u001b[0;32mdef\u001b[0m \u001b[0mget_expected_hidden_size\u001b[0m\u001b[0;34m(\u001b[0m\u001b[0mself\u001b[0m\u001b[0;34m,\u001b[0m \u001b[0minput\u001b[0m\u001b[0;34m,\u001b[0m \u001b[0mbatch_sizes\u001b[0m\u001b[0;34m)\u001b[0m\u001b[0;34m:\u001b[0m\u001b[0;34m\u001b[0m\u001b[0;34m\u001b[0m\u001b[0m\n",
      "\u001b[0;31mRuntimeError\u001b[0m: input.size(-1) must be equal to input_size. Expected 49165, got 98310"
     ]
    }
   ],
   "source": [
    "image = torch.randn(1, 2, 3, 384, 1024).requires_grad_(True).cuda()\n",
    "imu   = torch.randn(10,2,6).requires_grad_(True).cuda()\n",
    "y = model(image, imu)\n",
    "make_dot(y, params = dict(list(model.named_parameters()) + [('x',x)]))"
   ]
  },
  {
   "cell_type": "code",
   "execution_count": 34,
   "metadata": {
    "scrolled": true
   },
   "outputs": [
    {
     "data": {
      "text/plain": [
       "49155.0"
      ]
     },
     "execution_count": 34,
     "metadata": {},
     "output_type": "execute_result"
    }
   ],
   "source": [
    "98310/2"
   ]
  },
  {
   "cell_type": "code",
   "execution_count": null,
   "metadata": {},
   "outputs": [],
   "source": []
  }
 ],
 "metadata": {
  "kernelspec": {
   "display_name": "Python 3",
   "language": "python",
   "name": "python3"
  },
  "language_info": {
   "codemirror_mode": {
    "name": "ipython",
    "version": 3
   },
   "file_extension": ".py",
   "mimetype": "text/x-python",
   "name": "python",
   "nbconvert_exporter": "python",
   "pygments_lexer": "ipython3",
   "version": "3.6.8"
  }
 },
 "nbformat": 4,
 "nbformat_minor": 2
}
